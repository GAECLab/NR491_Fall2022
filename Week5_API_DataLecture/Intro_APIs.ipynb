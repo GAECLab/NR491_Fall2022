{
 "cells": [
  {
   "cell_type": "markdown",
   "metadata": {},
   "source": [
    "# Downloading streamflow and weather data using APIs\n",
    "---\n",
    "\n",
    "**Objectives:**\n",
    "\n",
    "By the end of this exercise, you should be able to:\n",
    "* get streamflow and weather data from two APIs (Application Programming Interface), namely the USGS web platform and NOAA's bulk data interface \n",
    "* automate both processes using python packages (i.e., `hydrofunctions` and `meteostat`)\n",
    "* plot streamflow and precipitation time series\n",
    "* correlate the streamflow and precipitation data\n",
    "\n",
    "---\n",
    "\n",
    "In this exercise, we will use Lake Raleigh as our study case. We will leverage the [hydrofunctions](https://hydrofunctions.readthedocs.io/en/latest/authors.html) python package to access the streamflow time series from USGS gauging stations—using a python (or R package) is the most convenient way to retrieve streamflow information from multiple USGS stations. In addition, we will use the [meteostat](https://dev.meteostat.net/python/) python library to access weather data from NOAA meteorological stations.\n",
    "\n",
    "#### What is an API and how does it work?\n",
    "\n",
    "Application Programming Interface can be thought of as a service between two applications. For example, the application sending a request (i.e., client or user), and the application sending the response to the request (i.e., the USGS web platform or NOAA's bulk data interface).\n",
    "\n",
    "Check out this video [below](\"https://youtu.be/s7wmiS2mSXY\").\n",
    "\n",
    "<a href=\"https://youtu.be/s7wmiS2mSXY\">\n",
    "<p align=\"center\">\n",
    "    <img src='imgs/api.png' width='600' /> \n",
    "</p>"
   ]
  },
  {
   "cell_type": "markdown",
   "metadata": {},
   "source": [
    "##### Installing the necessary packages\n",
    "\n",
    "Open your anaconda prompt, activate your NR491 environment and run:\n",
    "\n",
    "$ pip install hydrofunctions  \n",
    "\n",
    "$ pip install meteostat "
   ]
  },
  {
   "cell_type": "markdown",
   "metadata": {},
   "source": [
    "Make sure the Kernel (in the upper right hand side corner) is changed to your NR491 environment"
   ]
  },
  {
   "cell_type": "markdown",
   "metadata": {},
   "source": [
    "#### Downloading streamflow time series"
   ]
  },
  {
   "cell_type": "code",
   "execution_count": 37,
   "metadata": {},
   "outputs": [],
   "source": [
    "import hydrofunctions as hf\n",
    "import matplotlib.pyplot as plt\n",
    "%matplotlib inline"
   ]
  },
  {
   "cell_type": "markdown",
   "metadata": {},
   "source": [
    "We will retrieve streamflow time series between **01-01-2021** and **01-01-2022** for the USGS station closest to Lake Raleigh. To do so, we first need to get the station/site number (\"**site_no**\") from the National Water Dashboard [here](https://dashboard.waterdata.usgs.gov/app/nwd/?region=lower48&aoi=default). Basically, zoom in to Lake Raleigh, and click or hover your mouse on the closest station. Then, get the 10 digits USGS station number. \n",
    "\n",
    "What site number did you pick?\n",
    "\n",
    "The second step is to define the type of \"**service**\" that we will request from the API. It can either be \"iv\" (instantaneous values) or \"dv\" (default, daily mean values). In our case, we want the daily mean values. Lastly, we will define the start_date (\"**st_date**\") and end_date (\"**end_date**\").\n",
    "\n",
    "Please make sure you read through the hydrofunctions package [documentation](https://hydrofunctions.readthedocs.io/en/latest/notebooks/Writing_Valid_Requests_for_NWIS.html). "
   ]
  },
  {
   "cell_type": "code",
   "execution_count": 38,
   "metadata": {},
   "outputs": [
    {
     "name": "stdout",
     "output_type": "stream",
     "text": [
      "Requested data from https://waterservices.usgs.gov/nwis/dv/?format=json%2C1.1&sites=0208734210&startDT=2021-01-01&endDT=2022-01-01\n"
     ]
    },
    {
     "data": {
      "text/plain": [
       "USGS:0208734210: WALNUT CREEK AT TRAILWOOD DRIVE AT RALEIGH, NC\n",
       "    00060: <Day>  Discharge, cubic feet per second \n",
       "    00065: <Day>  Gage height, feet \n",
       "Start: 2021-01-01 00:00:00+00:00\n",
       "End:   2022-01-01 00:00:00+00:00"
      ]
     },
     "execution_count": 38,
     "metadata": {},
     "output_type": "execute_result"
    }
   ],
   "source": [
    "# general objects\n",
    "site_no = '0208734210' # add the site_no here (0208734210)\n",
    "service = 'dv'\n",
    "st_date, end_date = '2021-01-01', '2022-01-01'\n",
    "\n",
    "# flow in ft3/s\n",
    "daily_mean = hf.NWIS(site=site_no, service=service, start_date=st_date, end_date=end_date)\n",
    "# What are the properties of the dataset? You can see below that there are two types of data being collected at our site\n",
    "daily_mean"
   ]
  },
  {
   "cell_type": "markdown",
   "metadata": {},
   "source": [
    "How can we have a look at the data? What type of object is `daily_mean`?"
   ]
  },
  {
   "cell_type": "code",
   "execution_count": 39,
   "metadata": {},
   "outputs": [
    {
     "data": {
      "text/plain": [
       "hydrofunctions.station.NWIS"
      ]
     },
     "execution_count": 39,
     "metadata": {},
     "output_type": "execute_result"
    }
   ],
   "source": [
    "type(daily_mean)"
   ]
  },
  {
   "cell_type": "code",
   "execution_count": 40,
   "metadata": {},
   "outputs": [
    {
     "data": {
      "text/html": [
       "<div>\n",
       "<style scoped>\n",
       "    .dataframe tbody tr th:only-of-type {\n",
       "        vertical-align: middle;\n",
       "    }\n",
       "\n",
       "    .dataframe tbody tr th {\n",
       "        vertical-align: top;\n",
       "    }\n",
       "\n",
       "    .dataframe thead th {\n",
       "        text-align: right;\n",
       "    }\n",
       "</style>\n",
       "<table border=\"1\" class=\"dataframe\">\n",
       "  <thead>\n",
       "    <tr style=\"text-align: right;\">\n",
       "      <th></th>\n",
       "      <th>USGS:0208734210:00060:00003</th>\n",
       "      <th>USGS:0208734210:00060:00003_qualifiers</th>\n",
       "      <th>USGS:0208734210:00065:00003</th>\n",
       "      <th>USGS:0208734210:00065:00003_qualifiers</th>\n",
       "    </tr>\n",
       "    <tr>\n",
       "      <th>datetimeUTC</th>\n",
       "      <th></th>\n",
       "      <th></th>\n",
       "      <th></th>\n",
       "      <th></th>\n",
       "    </tr>\n",
       "  </thead>\n",
       "  <tbody>\n",
       "    <tr>\n",
       "      <th>2021-01-01 00:00:00+00:00</th>\n",
       "      <td>43.9</td>\n",
       "      <td>A</td>\n",
       "      <td>5.31</td>\n",
       "      <td>A</td>\n",
       "    </tr>\n",
       "    <tr>\n",
       "      <th>2021-01-02 00:00:00+00:00</th>\n",
       "      <td>49.5</td>\n",
       "      <td>A</td>\n",
       "      <td>5.39</td>\n",
       "      <td>A</td>\n",
       "    </tr>\n",
       "    <tr>\n",
       "      <th>2021-01-03 00:00:00+00:00</th>\n",
       "      <td>175.0</td>\n",
       "      <td>A</td>\n",
       "      <td>7.08</td>\n",
       "      <td>A</td>\n",
       "    </tr>\n",
       "    <tr>\n",
       "      <th>2021-01-04 00:00:00+00:00</th>\n",
       "      <td>35.1</td>\n",
       "      <td>A</td>\n",
       "      <td>5.13</td>\n",
       "      <td>A</td>\n",
       "    </tr>\n",
       "    <tr>\n",
       "      <th>2021-01-05 00:00:00+00:00</th>\n",
       "      <td>17.5</td>\n",
       "      <td>A</td>\n",
       "      <td>4.71</td>\n",
       "      <td>A</td>\n",
       "    </tr>\n",
       "  </tbody>\n",
       "</table>\n",
       "</div>"
      ],
      "text/plain": [
       "                           USGS:0208734210:00060:00003  \\\n",
       "datetimeUTC                                              \n",
       "2021-01-01 00:00:00+00:00                         43.9   \n",
       "2021-01-02 00:00:00+00:00                         49.5   \n",
       "2021-01-03 00:00:00+00:00                        175.0   \n",
       "2021-01-04 00:00:00+00:00                         35.1   \n",
       "2021-01-05 00:00:00+00:00                         17.5   \n",
       "\n",
       "                          USGS:0208734210:00060:00003_qualifiers  \\\n",
       "datetimeUTC                                                        \n",
       "2021-01-01 00:00:00+00:00                                      A   \n",
       "2021-01-02 00:00:00+00:00                                      A   \n",
       "2021-01-03 00:00:00+00:00                                      A   \n",
       "2021-01-04 00:00:00+00:00                                      A   \n",
       "2021-01-05 00:00:00+00:00                                      A   \n",
       "\n",
       "                           USGS:0208734210:00065:00003  \\\n",
       "datetimeUTC                                              \n",
       "2021-01-01 00:00:00+00:00                         5.31   \n",
       "2021-01-02 00:00:00+00:00                         5.39   \n",
       "2021-01-03 00:00:00+00:00                         7.08   \n",
       "2021-01-04 00:00:00+00:00                         5.13   \n",
       "2021-01-05 00:00:00+00:00                         4.71   \n",
       "\n",
       "                          USGS:0208734210:00065:00003_qualifiers  \n",
       "datetimeUTC                                                       \n",
       "2021-01-01 00:00:00+00:00                                      A  \n",
       "2021-01-02 00:00:00+00:00                                      A  \n",
       "2021-01-03 00:00:00+00:00                                      A  \n",
       "2021-01-04 00:00:00+00:00                                      A  \n",
       "2021-01-05 00:00:00+00:00                                      A  "
      ]
     },
     "execution_count": 40,
     "metadata": {},
     "output_type": "execute_result"
    }
   ],
   "source": [
    "# this is what the data look like in table form, what do you think these columns are?\n",
    "daily_mean.df()\n",
    "daily_mean.df().head()"
   ]
  },
  {
   "cell_type": "markdown",
   "metadata": {},
   "source": [
    "Go to the [documentation](https://hydrofunctions.readthedocs.io/en/latest/notebooks/viewing.html) and try to find out what the \n",
    "different columns represent. How can we list the columns separately?"
   ]
  },
  {
   "cell_type": "markdown",
   "metadata": {},
   "source": [
    "\n",
    "\n",
    "\n",
    "\n",
    "\n",
    "We have 2 different columns containing data. Each column has a twin ‘qualifiers’ column, which contains metadata flags.\n",
    "‘P’ flags indicate “Provisional” data; “Approved” (‘A’) indicate official data.\n"
   ]
  },
  {
   "cell_type": "code",
   "execution_count": 41,
   "metadata": {},
   "outputs": [
    {
     "data": {
      "text/plain": [
       "Index(['USGS:0208734210:00060:00003', 'USGS:0208734210:00060:00003_qualifiers',\n",
       "       'USGS:0208734210:00065:00003',\n",
       "       'USGS:0208734210:00065:00003_qualifiers'],\n",
       "      dtype='object')"
      ]
     },
     "execution_count": 41,
     "metadata": {},
     "output_type": "execute_result"
    }
   ],
   "source": [
    "# list the columns separately\n",
    "daily_mean.df().columns"
   ]
  },
  {
   "cell_type": "code",
   "execution_count": 42,
   "metadata": {},
   "outputs": [
    {
     "data": {
      "text/html": [
       "<div>\n",
       "<style scoped>\n",
       "    .dataframe tbody tr th:only-of-type {\n",
       "        vertical-align: middle;\n",
       "    }\n",
       "\n",
       "    .dataframe tbody tr th {\n",
       "        vertical-align: top;\n",
       "    }\n",
       "\n",
       "    .dataframe thead th {\n",
       "        text-align: right;\n",
       "    }\n",
       "</style>\n",
       "<table border=\"1\" class=\"dataframe\">\n",
       "  <thead>\n",
       "    <tr style=\"text-align: right;\">\n",
       "      <th></th>\n",
       "      <th>USGS:0208734210:00060:00003</th>\n",
       "    </tr>\n",
       "    <tr>\n",
       "      <th>datetimeUTC</th>\n",
       "      <th></th>\n",
       "    </tr>\n",
       "  </thead>\n",
       "  <tbody>\n",
       "    <tr>\n",
       "      <th>2021-01-01 00:00:00+00:00</th>\n",
       "      <td>43.9</td>\n",
       "    </tr>\n",
       "    <tr>\n",
       "      <th>2021-01-02 00:00:00+00:00</th>\n",
       "      <td>49.5</td>\n",
       "    </tr>\n",
       "    <tr>\n",
       "      <th>2021-01-03 00:00:00+00:00</th>\n",
       "      <td>175.0</td>\n",
       "    </tr>\n",
       "    <tr>\n",
       "      <th>2021-01-04 00:00:00+00:00</th>\n",
       "      <td>35.1</td>\n",
       "    </tr>\n",
       "    <tr>\n",
       "      <th>2021-01-05 00:00:00+00:00</th>\n",
       "      <td>17.5</td>\n",
       "    </tr>\n",
       "  </tbody>\n",
       "</table>\n",
       "</div>"
      ],
      "text/plain": [
       "                           USGS:0208734210:00060:00003\n",
       "datetimeUTC                                           \n",
       "2021-01-01 00:00:00+00:00                         43.9\n",
       "2021-01-02 00:00:00+00:00                         49.5\n",
       "2021-01-03 00:00:00+00:00                        175.0\n",
       "2021-01-04 00:00:00+00:00                         35.1\n",
       "2021-01-05 00:00:00+00:00                         17.5"
      ]
     },
     "execution_count": 42,
     "metadata": {},
     "output_type": "execute_result"
    }
   ],
   "source": [
    "# It is possible to limit your view to only one parameter by entering the five digit parameter number, \n",
    "# such as ‘00065’ for stage. Some common parameters have an alias, such as ‘q’ and ‘discharge’ for ‘00060’. \n",
    "# Since discharge is what we are interested in, we will have a look at that:\n",
    "daily_mean.df('q').head()"
   ]
  },
  {
   "cell_type": "code",
   "execution_count": 44,
   "metadata": {},
   "outputs": [
    {
     "data": {
      "text/html": [
       "<div>\n",
       "<style scoped>\n",
       "    .dataframe tbody tr th:only-of-type {\n",
       "        vertical-align: middle;\n",
       "    }\n",
       "\n",
       "    .dataframe tbody tr th {\n",
       "        vertical-align: top;\n",
       "    }\n",
       "\n",
       "    .dataframe thead th {\n",
       "        text-align: right;\n",
       "    }\n",
       "</style>\n",
       "<table border=\"1\" class=\"dataframe\">\n",
       "  <thead>\n",
       "    <tr style=\"text-align: right;\">\n",
       "      <th></th>\n",
       "      <th>USGS:0208734210:00060:00003</th>\n",
       "    </tr>\n",
       "    <tr>\n",
       "      <th>datetimeUTC</th>\n",
       "      <th></th>\n",
       "    </tr>\n",
       "  </thead>\n",
       "  <tbody>\n",
       "    <tr>\n",
       "      <th>2021-01-01 00:00:00+00:00</th>\n",
       "      <td>43.9</td>\n",
       "    </tr>\n",
       "    <tr>\n",
       "      <th>2021-01-02 00:00:00+00:00</th>\n",
       "      <td>49.5</td>\n",
       "    </tr>\n",
       "    <tr>\n",
       "      <th>2021-01-03 00:00:00+00:00</th>\n",
       "      <td>175.0</td>\n",
       "    </tr>\n",
       "    <tr>\n",
       "      <th>2021-01-04 00:00:00+00:00</th>\n",
       "      <td>35.1</td>\n",
       "    </tr>\n",
       "    <tr>\n",
       "      <th>2021-01-05 00:00:00+00:00</th>\n",
       "      <td>17.5</td>\n",
       "    </tr>\n",
       "  </tbody>\n",
       "</table>\n",
       "</div>"
      ],
      "text/plain": [
       "                           USGS:0208734210:00060:00003\n",
       "datetimeUTC                                           \n",
       "2021-01-01 00:00:00+00:00                         43.9\n",
       "2021-01-02 00:00:00+00:00                         49.5\n",
       "2021-01-03 00:00:00+00:00                        175.0\n",
       "2021-01-04 00:00:00+00:00                         35.1\n",
       "2021-01-05 00:00:00+00:00                         17.5"
      ]
     },
     "execution_count": 44,
     "metadata": {},
     "output_type": "execute_result"
    }
   ],
   "source": [
    "daily_mean_values = daily_mean.df('q')\n",
    "daily_mean_values\n",
    "\n",
    "# save data after creating a folder called 'results' in your Week5_API_DataLecture folder\n",
    "os.makedirs('./results', exist_ok=True)\n",
    "\n",
    "daily_mean_values.to_csv('results/daily_mean_values.csv')\n",
    "\n",
    "daily_mean_values.head()"
   ]
  },
  {
   "cell_type": "code",
   "execution_count": 45,
   "metadata": {},
   "outputs": [
    {
     "data": {
      "text/plain": [
       "<AxesSubplot:xlabel='datetimeUTC'>"
      ]
     },
     "execution_count": 45,
     "metadata": {},
     "output_type": "execute_result"
    },
    {
     "data": {
      "image/png": "[encoded data removed]",
      "text/plain": [
       "<Figure size 640x480 with 1 Axes>"
      ]
     },
     "metadata": {},
     "output_type": "display_data"
    }
   ],
   "source": [
    "# we can plot it directly\n",
    "daily_mean.df('discharge').plot()"
   ]
  },
  {
   "cell_type": "code",
   "execution_count": 46,
   "metadata": {},
   "outputs": [
    {
     "data": {
      "image/png": "[encoded data removed]",
      "text/plain": [
       "<Figure size 1000x600 with 1 Axes>"
      ]
     },
     "metadata": {},
     "output_type": "display_data"
    }
   ],
   "source": [
    "# plot the streamflow time series\n",
    "fig, ax = plt.subplots(figsize=(10, 6))\n",
    "ax.step(daily_mean_values.loc[st_date:end_date].index.values, daily_mean_values.loc[st_date:end_date].values, where='post')\n",
    "plt.yscale('log') # plotting with a log scale\n",
    "plt.ylabel('Log scaled streamflow (ft3/s)')\n",
    "plt.title(f'USGS station:{site_no}.')\n",
    "plt.show()"
   ]
  },
  {
   "cell_type": "markdown",
   "metadata": {},
   "source": [
    "What do you notice in this graph? Describe the pattern in discharge at this station. What do you think plotting it \n",
    "on a log scale does?"
   ]
  },
  {
   "cell_type": "markdown",
   "metadata": {},
   "source": [
    "#### Downloading weather variables time series"
   ]
  },
  {
   "cell_type": "code",
   "execution_count": 47,
   "metadata": {},
   "outputs": [],
   "source": [
    "from datetime import datetime\n",
    "from meteostat import Point, Daily"
   ]
  },
  {
   "cell_type": "markdown",
   "metadata": {},
   "source": [
    "Using the [meteostat](https://dev.meteostat.net/python/) python library, we can access open weather and climate information (see data sources [here](https://dev.meteostat.net/sources.html)), for instance, from [NOAA's](https://www.weather.gov/) API. \n",
    "\n",
    "Q: What organizations is `meteosat` able to download data from?"
   ]
  },
  {
   "cell_type": "markdown",
   "metadata": {},
   "source": [
    "The package allows us to have access to raw observations of individual weather stations, or use a **point data** to query data by geographic location. For a complete list of climate variables and their units, please have a look [here](https://dev.meteostat.net/formats.html#meteorological-parameters).\n",
    "\n",
    "Q: How many meteorological parameters is `meteosat` providing data for?"
   ]
  },
  {
   "cell_type": "markdown",
   "metadata": {},
   "source": [
    "Point data is available for almost all geographic locations. It only returns data if there is at least one nearby weather station. For further details, please have a look [here](https://dev.meteostat.net/python/point.html#example). What is `point` data?"
   ]
  },
  {
   "cell_type": "markdown",
   "metadata": {},
   "source": [
    "To get data for a specific point, you first need the point's Latitude and Longitude, which can be retrieved using this [website](https://www.latlong.net/).\n",
    " \n",
    "Q: What lat & long did you come up with for Lake Raleigh?"
   ]
  },
  {
   "cell_type": "markdown",
   "metadata": {},
   "source": [
    "An example of how to request data is available [here](https://dev.meteostat.net/python/#example)\n",
    "the package uses datetime format dates! Have a look at the example for Vancouver. \n",
    "\n",
    "Describe how this is done."
   ]
  },
  {
   "cell_type": "code",
   "execution_count": 48,
   "metadata": {},
   "outputs": [
    {
     "data": {
      "text/plain": [
       "datetime.datetime(2021, 1, 1, 0, 0)"
      ]
     },
     "execution_count": 48,
     "metadata": {},
     "output_type": "execute_result"
    }
   ],
   "source": [
    "st_date, end_date = datetime(2021,1,1), datetime(2022,1,1)\n",
    "st_date"
   ]
  },
  {
   "cell_type": "code",
   "execution_count": 50,
   "metadata": {},
   "outputs": [],
   "source": [
    "# Create Point for Lake Raleigh\n",
    "# add Lake Raleigh's lat and long here! \n",
    "# It must be a number, for instance, 35.773209, -78.681557\n",
    "lat, long = 35.773209, -78.681557 # <-- add lat and long here.\n",
    "lake_raleigh = Point(lat,long)"
   ]
  },
  {
   "cell_type": "code",
   "execution_count": 51,
   "metadata": {},
   "outputs": [
    {
     "data": {
      "text/plain": [
       "meteostat.interface.point.Point"
      ]
     },
     "execution_count": 51,
     "metadata": {},
     "output_type": "execute_result"
    }
   ],
   "source": [
    "type(lake_raleigh)"
   ]
  },
  {
   "cell_type": "markdown",
   "metadata": {},
   "source": [
    "Q: What type of object is `lake_raleigh`?"
   ]
  },
  {
   "cell_type": "code",
   "execution_count": 53,
   "metadata": {},
   "outputs": [],
   "source": [
    "# Get daily data between Jan 2021 and Jan 2022\n",
    "weather_data = Daily(lake_raleigh, st_date, end_date)\n",
    "weather_data = weather_data.fetch()"
   ]
  },
  {
   "cell_type": "code",
   "execution_count": 54,
   "metadata": {},
   "outputs": [],
   "source": [
    "# save your data in the results folder created before\n",
    "weather_data.to_csv('results/weather_data.csv')"
   ]
  },
  {
   "cell_type": "markdown",
   "metadata": {},
   "source": [
    "Have a look at the data? what columns do we have?"
   ]
  },
  {
   "cell_type": "code",
   "execution_count": 55,
   "metadata": {},
   "outputs": [
    {
     "data": {
      "text/html": [
       "<div>\n",
       "<style scoped>\n",
       "    .dataframe tbody tr th:only-of-type {\n",
       "        vertical-align: middle;\n",
       "    }\n",
       "\n",
       "    .dataframe tbody tr th {\n",
       "        vertical-align: top;\n",
       "    }\n",
       "\n",
       "    .dataframe thead th {\n",
       "        text-align: right;\n",
       "    }\n",
       "</style>\n",
       "<table border=\"1\" class=\"dataframe\">\n",
       "  <thead>\n",
       "    <tr style=\"text-align: right;\">\n",
       "      <th></th>\n",
       "      <th>tavg</th>\n",
       "      <th>tmin</th>\n",
       "      <th>tmax</th>\n",
       "      <th>prcp</th>\n",
       "      <th>snow</th>\n",
       "      <th>wdir</th>\n",
       "      <th>wspd</th>\n",
       "      <th>wpgt</th>\n",
       "      <th>pres</th>\n",
       "      <th>tsun</th>\n",
       "    </tr>\n",
       "    <tr>\n",
       "      <th>time</th>\n",
       "      <th></th>\n",
       "      <th></th>\n",
       "      <th></th>\n",
       "      <th></th>\n",
       "      <th></th>\n",
       "      <th></th>\n",
       "      <th></th>\n",
       "      <th></th>\n",
       "      <th></th>\n",
       "      <th></th>\n",
       "    </tr>\n",
       "  </thead>\n",
       "  <tbody>\n",
       "    <tr>\n",
       "      <th>2021-01-01</th>\n",
       "      <td>8.1</td>\n",
       "      <td>5.0</td>\n",
       "      <td>12.8</td>\n",
       "      <td>16.5</td>\n",
       "      <td>0.0</td>\n",
       "      <td>56.0</td>\n",
       "      <td>12.6</td>\n",
       "      <td>NaN</td>\n",
       "      <td>1024.4</td>\n",
       "      <td>NaN</td>\n",
       "    </tr>\n",
       "    <tr>\n",
       "      <th>2021-01-02</th>\n",
       "      <td>8.1</td>\n",
       "      <td>5.6</td>\n",
       "      <td>13.9</td>\n",
       "      <td>15.2</td>\n",
       "      <td>0.0</td>\n",
       "      <td>313.0</td>\n",
       "      <td>5.0</td>\n",
       "      <td>NaN</td>\n",
       "      <td>1016.4</td>\n",
       "      <td>NaN</td>\n",
       "    </tr>\n",
       "    <tr>\n",
       "      <th>2021-01-03</th>\n",
       "      <td>10.7</td>\n",
       "      <td>6.7</td>\n",
       "      <td>12.8</td>\n",
       "      <td>23.6</td>\n",
       "      <td>0.0</td>\n",
       "      <td>4.0</td>\n",
       "      <td>5.0</td>\n",
       "      <td>NaN</td>\n",
       "      <td>1013.1</td>\n",
       "      <td>NaN</td>\n",
       "    </tr>\n",
       "    <tr>\n",
       "      <th>2021-01-04</th>\n",
       "      <td>6.4</td>\n",
       "      <td>1.1</td>\n",
       "      <td>9.4</td>\n",
       "      <td>0.0</td>\n",
       "      <td>0.0</td>\n",
       "      <td>352.0</td>\n",
       "      <td>1.8</td>\n",
       "      <td>NaN</td>\n",
       "      <td>1016.4</td>\n",
       "      <td>NaN</td>\n",
       "    </tr>\n",
       "    <tr>\n",
       "      <th>2021-01-05</th>\n",
       "      <td>2.8</td>\n",
       "      <td>-1.6</td>\n",
       "      <td>8.9</td>\n",
       "      <td>0.0</td>\n",
       "      <td>0.0</td>\n",
       "      <td>341.0</td>\n",
       "      <td>2.2</td>\n",
       "      <td>NaN</td>\n",
       "      <td>1014.1</td>\n",
       "      <td>NaN</td>\n",
       "    </tr>\n",
       "  </tbody>\n",
       "</table>\n",
       "</div>"
      ],
      "text/plain": [
       "            tavg  tmin  tmax  prcp  snow   wdir  wspd  wpgt    pres  tsun\n",
       "time                                                                     \n",
       "2021-01-01   8.1   5.0  12.8  16.5   0.0   56.0  12.6   NaN  1024.4   NaN\n",
       "2021-01-02   8.1   5.6  13.9  15.2   0.0  313.0   5.0   NaN  1016.4   NaN\n",
       "2021-01-03  10.7   6.7  12.8  23.6   0.0    4.0   5.0   NaN  1013.1   NaN\n",
       "2021-01-04   6.4   1.1   9.4   0.0   0.0  352.0   1.8   NaN  1016.4   NaN\n",
       "2021-01-05   2.8  -1.6   8.9   0.0   0.0  341.0   2.2   NaN  1014.1   NaN"
      ]
     },
     "execution_count": 55,
     "metadata": {},
     "output_type": "execute_result"
    }
   ],
   "source": [
    "weather_data.head()"
   ]
  },
  {
   "cell_type": "code",
   "execution_count": 56,
   "metadata": {},
   "outputs": [
    {
     "data": {
      "image/png": "[encoded data removed]",
      "text/plain": [
       "<Figure size 1000x600 with 1 Axes>"
      ]
     },
     "metadata": {},
     "output_type": "display_data"
    }
   ],
   "source": [
    "# plot our precipitation\n",
    "fig, ax = plt.subplots(figsize=(10, 6))\n",
    "ax.bar(weather_data.loc[st_date:end_date].index.values, weather_data.loc[st_date:end_date]['prcp'].values)\n",
    "plt.ylabel('Precipitation (mm)')\n",
    "plt.title(f'Precipitation for Lake Raleigh')\n",
    "plt.show()"
   ]
  },
  {
   "cell_type": "markdown",
   "metadata": {},
   "source": [
    "#### Correlation between streamflow and precipitation\n",
    "\n",
    "We can calculate Pearson's correlation using the covariance of streamflow and precipitation, divided by the product of their standard deviation.\n",
    "\n",
    "Pearson's correlation coefficient = covariance(streamflow, precipitation) / (stdv(streamflow) * stdv(precipitation))\n",
    "\n",
    "Or we can simply use numpy's function **np.corrcoef()**, for further details check the function's [documentation](https://numpy.org/doc/stable/reference/generated/numpy.corrcoef.html).\n",
    "Let's have a look at the documentation, how does this function work?"
   ]
  },
  {
   "cell_type": "code",
   "execution_count": 57,
   "metadata": {},
   "outputs": [],
   "source": [
    "import numpy as np"
   ]
  },
  {
   "cell_type": "code",
   "execution_count": 59,
   "metadata": {},
   "outputs": [
    {
     "data": {
      "text/plain": [
       "array([ 43.9 ,  49.5 , 175.  ,  35.1 ,  17.5 ,   9.79,   6.39,  20.5 ,\n",
       "        36.8 ,  14.4 ,   7.18,   6.77,   5.81,   4.51,   7.09,  11.3 ,\n",
       "         6.13,   4.27,   3.25,   2.93,   2.7 ,   2.65,   2.37,   2.12,\n",
       "         5.23,  21.2 ,  12.6 ,  47.7 ,  19.9 ,   8.65,  92.9 ,  49.  ,\n",
       "        19.9 ,  11.2 ,   7.28,  10.9 ,  10.1 ,  39.9 ,  20.4 ,  11.3 ,\n",
       "         7.78,  24.  ,  50.5 ,  63.8 ,  67.6 ,  53.9 ,  77.3 ,  23.3 ,\n",
       "        85.1 , 121.  ,  34.  ,  17.5 ,  28.7 ,  26.6 ,  15.5 ,  10.5 ,\n",
       "        12.7 ,  35.1 ,  19.1 ,  14.8 ,  11.3 ,   8.31,   6.79,   5.48,\n",
       "         4.99,   4.74,   4.43,   4.2 ,   3.91,   3.81,   3.8 ,   3.51,\n",
       "         3.42,   3.05,  17.6 ,  14.7 ,   8.36,   8.34,   6.67,   4.62,\n",
       "         4.3 ,   4.  ,   6.08,   5.19,   6.43,   9.09,  93.2 ,  26.7 ,\n",
       "        14.6 ,  18.3 ,  21.8 ,  11.7 ,   7.5 ,   6.04,   5.15,   4.76,\n",
       "         4.43,   4.18,   4.02,   3.99,  13.3 ,   6.62,   3.92,   3.36,\n",
       "         3.52,   3.04,   2.67,   2.68,   2.71,   2.53,   2.79,   2.37,\n",
       "         2.11,   3.13,   5.84,   3.99,   3.04,   2.61,   2.44,   2.42,\n",
       "         2.95,   1.69,   1.93,   2.13,   2.3 ,   2.14,  11.4 ,   8.29,\n",
       "         3.58,  18.2 ,  17.1 ,   7.62,   4.65,   2.97,   2.22,   1.93,\n",
       "         1.88,   1.95,   1.85,   1.6 ,   1.46,   1.43,   1.35,   6.68,\n",
       "         6.51,   3.8 ,   3.17,   2.23,   1.72,   1.64,   1.45,   1.35,\n",
       "        21.7 ,  91.7 ,  36.3 ,  12.8 ,   5.22,   3.09,   2.3 ,   1.83,\n",
       "        54.3 ,  45.7 ,  28.4 ,  12.6 ,   5.71,   3.84,   3.26,   1.87,\n",
       "         1.81,   1.78,  26.5 ,  22.2 ,  13.8 ,  10.8 ,   4.34,   3.73,\n",
       "        22.7 ,  27.  ,  11.  ,   5.11,   2.99,   2.17,  37.2 ,  31.7 ,\n",
       "        11.6 ,   4.5 ,  40.6 ,  51.  , 115.  ,  55.8 ,  23.1 ,  12.5 ,\n",
       "         7.24,   4.74,  36.3 ,   7.53,   7.19,   4.9 ,   1.74,   4.18,\n",
       "         1.9 ,   1.93,   2.58,   2.44,   2.2 ,   1.38,   1.71,   1.81,\n",
       "         1.52,   1.48,   1.23,   1.22,   1.24,   1.3 ,   1.61,   1.46,\n",
       "         1.22,   1.25,   1.72,   3.47,   1.2 ,   1.08,   1.67,   1.65,\n",
       "         1.6 ,   6.71,   2.14,   4.33,   2.02,   1.8 ,   1.27,  32.9 ,\n",
       "        26.6 ,  10.4 ,   4.84,   2.9 ,   8.49,   2.73,   2.02,   2.43,\n",
       "         1.01,   0.98,   0.96,   1.22,   1.23,   1.  ,   0.97,   0.95,\n",
       "         0.96,   1.01,   1.5 ,  42.6 ,  17.7 ,   5.73,   2.64,   1.65,\n",
       "         1.27,   1.07,   1.01,   1.04,   1.02,   0.94,   0.95,   1.02,\n",
       "        26.8 ,  27.5 ,   8.  ,   3.11,   1.73,   1.17,   1.03,   0.94,\n",
       "         0.91,   0.91,   0.9 ,   0.91,   1.58,   2.05,   1.49,   1.18,\n",
       "         1.07, 367.  ,  61.  ,  17.7 ,   7.22,   4.39,   2.97,   2.1 ,\n",
       "         5.58,   6.87,   2.94,   1.69,   1.31,   1.2 ,   1.07,   0.98,\n",
       "         0.9 ,  34.8 ,  66.9 ,  15.3 ,   6.93,  46.2 ,  16.8 ,   6.48,\n",
       "        38.3 ,  81.7 ,  80.4 ,  77.3 ,  47.2 ,   0.99,   1.54,   2.07,\n",
       "         4.03,   0.88,   0.66,   0.72,   0.74,   0.78,   0.81,   0.81,\n",
       "         0.81,   0.79,   0.79,   0.86,   0.83,   2.14,   0.88,   0.74,\n",
       "         0.73,   0.93,   0.78,   0.71,   0.74,   0.71,   0.68,   0.67,\n",
       "         0.66,   0.67,   0.67,   0.68,   0.66,   3.04,   0.87,   0.73,\n",
       "         1.63,   1.31,   0.9 ,   0.79,   0.72,   0.74,   0.7 ,   0.7 ,\n",
       "        11.  ,   1.29,   1.43,   1.62,   0.87,   0.78,   0.74,   0.68,\n",
       "         0.65,   0.64,   0.64,   1.04,   0.64,   1.33])"
      ]
     },
     "execution_count": 59,
     "metadata": {},
     "output_type": "execute_result"
    }
   ],
   "source": [
    "# Have a look at the streamflow csv, what does it contain?\n",
    "streamflow = daily_mean_values.iloc[:,0].values\n",
    "# Q: What does  \n",
    "streamflow"
   ]
  },
  {
   "cell_type": "markdown",
   "metadata": {},
   "source": [
    "Q: Explain what the line below does. How else might we be able to read in the `prcp` data? \n",
    "Hint: have a look at your vector data exercise."
   ]
  },
  {
   "cell_type": "code",
   "execution_count": 60,
   "metadata": {},
   "outputs": [
    {
     "data": {
      "text/plain": [
       "array([ 16.5,  15.2,  23.6,   0. ,   0. ,   0. ,   0. ,   8.9,   0. ,\n",
       "         0. ,   1.3,   2.3,   0. ,   0. ,   6.1,   0. ,   0. ,   0. ,\n",
       "         0. ,   0. ,   0.3,   0. ,   0. ,   0. ,   9.4,   9.4,   8.4,\n",
       "         9.1,   0. ,   0. ,  27.2,   0. ,   0. ,   0. ,   0. ,   4.1,\n",
       "         7.9,  16.8,   0. ,   0. ,   0. ,  21.1,   1.3,  19.6,  10.4,\n",
       "        16. ,   0.3,   0. ,  19.8,  10.7,   0. ,   0. ,  10.4,   0. ,\n",
       "         0. ,   0. ,  14.7,   3.8,   0. ,   3.8,   0. ,   0. ,   0. ,\n",
       "         0. ,   0. ,   0. ,   0. ,   0. ,   0. ,   0. ,   0. ,   0. ,\n",
       "         0. ,   0. ,   9.4,   0. ,   0.5,   2.5,   0. ,   0. ,   0. ,\n",
       "         0. ,   1.8,   0.5,   3.6,  23.1,   6.4,   0. ,   0. ,  10.2,\n",
       "         0. ,   0. ,   0. ,   0. ,   0. ,   0. ,   0. ,   0. ,   1.8,\n",
       "         6.1,   5.1,   0. ,   0. ,   3.3,   0. ,   0. ,   0. ,   0. ,\n",
       "         0.3,   0. ,   0. ,   0. ,   0. ,   6.9,   0.5,   0. ,   0. ,\n",
       "         0. ,   0. ,   0. ,   0. ,   0. ,   5.1,   5.1,   0. ,   0. ,\n",
       "         8.4,   0. ,   0. ,   9.4,   0. ,   2.3,   0. ,   0. ,   0. ,\n",
       "         0.3,   1.3,   0. ,   0. ,   0. ,   0. ,   0. ,   0. ,   7.9,\n",
       "         0. ,   0. ,   0. ,   0.5,   1.5,   0.3,   0. ,   0. ,  46.2,\n",
       "        51.8,   0.5,   0. ,   0. ,   0. ,   0. ,   0. ,  25.4,   2.8,\n",
       "         0.8,   0. ,   0. ,   0. ,   0. ,   0. ,   0. ,   0. ,  36.8,\n",
       "         0. ,  26.2,   0. ,   0. ,   1. ,   0.8,   0. ,   0. ,   0. ,\n",
       "         0. ,   4.6,  27.4,   0. ,   0. ,   0. ,   0. ,   0. ,  64. ,\n",
       "        13.2,   0. ,   0. ,   0. ,   0. ,   0.5,   0. ,   0. ,   0. ,\n",
       "         4.3,  13.2,   0. ,   0. ,   0. ,   0. ,   0. ,   0. ,   0.5,\n",
       "         0. ,   0. ,   0. ,   0. ,   0. ,   0. ,   0. ,   2.8,   0.8,\n",
       "         0. ,   9.9,   8.1,   0. ,   0. ,   0. ,   0. ,   0. ,   0. ,\n",
       "        14. ,   3.8,   9.9,   2. ,   2.5,  11.2,   9.1,   0. ,   8.9,\n",
       "         0. ,   0. ,   0. ,   0. ,   0. ,   0. ,   0. ,   0. ,   0. ,\n",
       "         5.3,   0. ,   0. ,   0. ,   0. ,   0. ,   0. ,   0. ,  40.6,\n",
       "         0. ,   0. ,   0. ,   0. ,   0. ,   0. ,   0. ,   0.3,   0. ,\n",
       "         0. ,   0. ,   7.9,  18.5,   0. ,   0. ,   0. ,   0. ,   0. ,\n",
       "         0. ,   0. ,   0. ,   0. ,   0. ,   0. ,  11.9,   0. ,   0. ,\n",
       "         0. ,   0.5, 126. ,   0. ,   0. ,   0. ,   0. ,   0. ,   0. ,\n",
       "         4.3,   0. ,   0. ,   0. ,   0. ,   0. ,   0.3,   0. ,   0. ,\n",
       "        26.4,   0. ,   0. ,   7.1,  14.7,   0. ,   0. ,   0. ,   0. ,\n",
       "         0. ,   1.8,   0. ,   0. ,   0. ,   0. ,   0. ,   0. ,   0.5,\n",
       "         0. ,   0. ,   0. ,   0. ,   0. ,   0. ,   0. ,   0. ,   0. ,\n",
       "         0. ,  13.2,   0. ,   0. ,   0. ,   3.6,   0. ,   0. ,   0. ,\n",
       "         0. ,   0. ,   0. ,   0. ,   0. ,   0. ,   0. ,   0. ,   3.6,\n",
       "         0. ,   0. ,  10.4,   0. ,   0. ,   0. ,   0. ,   0. ,   0. ,\n",
       "         0.5,  17. ,   0. ,   6.9,   0. ,   0. ,   0. ,   0. ,   0. ,\n",
       "         0. ,   0. ,   0.5,   2.5,   0. ,  10.9])"
      ]
     },
     "execution_count": 60,
     "metadata": {},
     "output_type": "execute_result"
    }
   ],
   "source": [
    "precip = weather_data['prcp'].values\n",
    "precip"
   ]
  },
  {
   "cell_type": "code",
   "execution_count": 61,
   "metadata": {},
   "outputs": [],
   "source": [
    "# Let's do the correlation:\n",
    "p_corr = np.corrcoef(streamflow, precip)"
   ]
  },
  {
   "cell_type": "code",
   "execution_count": 62,
   "metadata": {},
   "outputs": [
    {
     "data": {
      "image/png": "[encoded data removed]",
      "text/plain": [
       "<Figure size 640x480 with 1 Axes>"
      ]
     },
     "metadata": {},
     "output_type": "display_data"
    }
   ],
   "source": [
    "# let's plot\n",
    "\n",
    "plt.scatter(streamflow, precip)\n",
    "plt.text(0,100,f\"Pearson's correlation: {np.round(p_corr[1, 0],2)}\")\n",
    "plt.ylabel('Streamflow (ft3/s)')\n",
    "plt.xlabel('Precipitation (mm)')\n",
    "plt.title(f'Correlation between streaflow and precipitation')\n",
    "plt.show()"
   ]
  },
  {
   "cell_type": "markdown",
   "metadata": {},
   "source": [
    "Q: How would you describe the correlation between discharge and precipitation for Lake Raleigh? Does it make sense? Why? Why not?\n",
    "What else might you want to consider?"
   ]
  }
 ],
 "metadata": {
  "kernelspec": {
   "display_name": "Python 3.10.5 ('NR491')",
   "language": "python",
   "name": "python3"
  },
  "language_info": {
   "codemirror_mode": {
    "name": "ipython",
    "version": 3
   },
   "file_extension": ".py",
   "mimetype": "text/x-python",
   "name": "python",
   "nbconvert_exporter": "python",
   "pygments_lexer": "ipython3",
   "version": "3.10.5"
  },
  "orig_nbformat": 4,
  "vscode": {
   "interpreter": {
    "hash": "6d767317ec53fc89358759cb941419f290fac210382fd1fe904dda98b050cea6"
   }
  }
 },
 "nbformat": 4,
 "nbformat_minor": 2
}
