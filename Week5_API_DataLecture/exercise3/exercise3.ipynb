{
 "cells": [
  {
   "cell_type": "markdown",
   "metadata": {},
   "source": [
    "# Downloading streamflow and weather data using APIs\n",
    "---\n",
    "\n",
    "**Objectives:**\n",
    "\n",
    "By the end of this exercise, you should be able to:\n",
    "* to get streamflow and weather data from two APIs (Application Programming Interface), USGS web platform and NOAA's bulk data interface \n",
    "* to automate both process using python packages (i.e., hydrofunctions and meteostat)\n",
    "* to plot streamflow and precipitation time series\n",
    "* to correlate streamflow and precipitation\n",
    "\n",
    "---\n",
    "\n",
    "In this exercise, we will use Lake Raleigh as our study case. We will leverage the [hydrofunctions](https://hydrofunctions.readthedocs.io/en/latest/authors.html) python package to access the streamflow time series from USGS gauging stations—using a python or R package is the most convenient way to retrieve streamflow information from multiple USGS stations. In addition, we will apply [meteostats](https://dev.meteostat.net/python/) to access weather data from the NOAA meteorological stations.\n",
    "\n",
    "#### What is an API and how does it work?\n",
    "\n",
    "Application Programming Interface can be thought of as a service between two applications. For example, the application sending a request (i.e., client or user), and the application sending the response to the request (i.e., the USGS web platform or NOAA's bulk data interface).\n",
    "\n",
    "Check out this video [below](\"https://youtu.be/s7wmiS2mSXY\").\n",
    "\n",
    "<a href=\"https://youtu.be/s7wmiS2mSXY\">\n",
    "<p align=\"center\">\n",
    "    <img src='imgs/api.png' width='600' /> \n",
    "</p>"
   ]
  },
  {
   "cell_type": "markdown",
   "metadata": {},
   "source": [
    "##### Installing the necessary packages\n",
    "\n",
    "Open your anaconda prompt, activate your environment and run:\n",
    "\n",
    "$ pip install hydrofunctions  \n",
    "\n",
    "$ pip install meteostats "
   ]
  },
  {
   "cell_type": "markdown",
   "metadata": {},
   "source": [
    "#### Downloading streamflow time series"
   ]
  },
  {
   "cell_type": "code",
   "execution_count": 7,
   "metadata": {},
   "outputs": [],
   "source": [
    "import hydrofunctions as hf\n",
    "import matplotlib.pyplot as plt\n",
    "%matplotlib inline"
   ]
  },
  {
   "cell_type": "markdown",
   "metadata": {},
   "source": [
    "We will retrieve streamflow time series between **01-01-2020** and **01-01-2022** for the Lake Raleigh's closest USGS station. To do so, we first need to get the site number (\"**site_no**\") [here](https://dashboard.waterdata.usgs.gov/app/nwd/?region=lower48&aoi=default). Basically, zoom in to Lake Raleigh's extent, and click or hover your mouse on the closest station. Then, get the 10 digits USGS station number. \n",
    "\n",
    "The second step is to define the type of \"**service**\" that we will request from the API. It can either be \"iv\" (instantaneous values) or \"dv\" (default, daily mean values). In our case, we want the daily mean. For last, we will define the start_date (\"**st_date**\") and end_date (\"**end_date**\").\n",
    "\n",
    "For more information, check the package [documentation](https://hydrofunctions.readthedocs.io/en/latest/index.html). "
   ]
  },
  {
   "cell_type": "code",
   "execution_count": 4,
   "metadata": {},
   "outputs": [
    {
     "name": "stdout",
     "output_type": "stream",
     "text": [
      "Requested data from https://waterservices.usgs.gov/nwis/dv/?format=json%2C1.1&sites=0208734210&startDT=2021-01-01&endDT=2022-01-01\n"
     ]
    },
    {
     "data": {
      "text/html": [
       "<div>\n",
       "<style scoped>\n",
       "    .dataframe tbody tr th:only-of-type {\n",
       "        vertical-align: middle;\n",
       "    }\n",
       "\n",
       "    .dataframe tbody tr th {\n",
       "        vertical-align: top;\n",
       "    }\n",
       "\n",
       "    .dataframe thead th {\n",
       "        text-align: right;\n",
       "    }\n",
       "</style>\n",
       "<table border=\"1\" class=\"dataframe\">\n",
       "  <thead>\n",
       "    <tr style=\"text-align: right;\">\n",
       "      <th></th>\n",
       "      <th>USGS:0208734210:00060:00003</th>\n",
       "    </tr>\n",
       "    <tr>\n",
       "      <th>datetimeUTC</th>\n",
       "      <th></th>\n",
       "    </tr>\n",
       "  </thead>\n",
       "  <tbody>\n",
       "    <tr>\n",
       "      <th>2021-01-01 04:00:00+00:00</th>\n",
       "      <td>43.9</td>\n",
       "    </tr>\n",
       "    <tr>\n",
       "      <th>2021-01-02 04:00:00+00:00</th>\n",
       "      <td>49.5</td>\n",
       "    </tr>\n",
       "    <tr>\n",
       "      <th>2021-01-03 04:00:00+00:00</th>\n",
       "      <td>175.0</td>\n",
       "    </tr>\n",
       "    <tr>\n",
       "      <th>2021-01-04 04:00:00+00:00</th>\n",
       "      <td>35.1</td>\n",
       "    </tr>\n",
       "    <tr>\n",
       "      <th>2021-01-05 04:00:00+00:00</th>\n",
       "      <td>17.5</td>\n",
       "    </tr>\n",
       "  </tbody>\n",
       "</table>\n",
       "</div>"
      ],
      "text/plain": [
       "                           USGS:0208734210:00060:00003\n",
       "datetimeUTC                                           \n",
       "2021-01-01 04:00:00+00:00                         43.9\n",
       "2021-01-02 04:00:00+00:00                         49.5\n",
       "2021-01-03 04:00:00+00:00                        175.0\n",
       "2021-01-04 04:00:00+00:00                         35.1\n",
       "2021-01-05 04:00:00+00:00                         17.5"
      ]
     },
     "execution_count": 4,
     "metadata": {},
     "output_type": "execute_result"
    }
   ],
   "source": [
    "# general objects\n",
    "site_no = '' # add the site_no here\n",
    "service = 'dv'\n",
    "st_date, end_date = '2021-01-01', '2022-01-01'\n",
    "\n",
    "# flow in ft3/s\n",
    "daily_mean = hf.NWIS(site=site_no, service=service, start_date=st_date, end_date=end_date)\n",
    "daily_mean_values = daily_mean.df('q').shift(4, freq='H')\n",
    "\n",
    "daily_mean_values.head()"
   ]
  },
  {
   "cell_type": "code",
   "execution_count": 10,
   "metadata": {},
   "outputs": [
    {
     "data": {
      "image/png": "[encoded data removed]",
      "text/plain": [
       "<Figure size 720x432 with 1 Axes>"
      ]
     },
     "metadata": {
      "needs_background": "light"
     },
     "output_type": "display_data"
    }
   ],
   "source": [
    "# check streamflow time series\n",
    "fig, ax = plt.subplots(figsize=(10, 6))\n",
    "ax.step(daily_mean_values.loc[st_date:end_date].index.values, daily_mean_values.loc[st_date:end_date].values, where='post')\n",
    "plt.yscale('log') # plotting with a log scale\n",
    "plt.ylabel('Log scaled streamflow (ft3/s)')\n",
    "plt.title(f'USGS station:{site_no}.')\n",
    "plt.show()"
   ]
  },
  {
   "cell_type": "markdown",
   "metadata": {},
   "source": [
    "#### Downloading weather variables time series"
   ]
  },
  {
   "cell_type": "code",
   "execution_count": 11,
   "metadata": {},
   "outputs": [],
   "source": [
    "from datetime import datetime\n",
    "from meteostat import Point, Daily"
   ]
  },
  {
   "cell_type": "markdown",
   "metadata": {},
   "source": [
    "Using the package [meteostats](https://dev.meteostat.net/python/) we are able to access open weather and climate information (see data sources [here](https://dev.meteostat.net/sources.html)), for instance, from [NOAA's](https://www.weather.gov/) API. The package allows us to have access to raw observations of individual weather stations, or use a **point data** to query data by geographic location. For a complete list of climate variables and their units, please see [here](https://dev.meteostat.net/formats.html#meteorological-parameters).\n",
    "\n",
    "Point data is available for almost all geographic locations. It only returns data if there is at least one nearby weather station. For further details, please see [here](https://dev.meteostat.net/python/point.html#example). \n",
    "\n",
    "To get data for a specific point, you first need the point's Latitude and Longitude, which can be retrieved using this [website](https://www.latlong.net/).\n",
    "Use the Latitude and Longitude values below."
   ]
  },
  {
   "cell_type": "code",
   "execution_count": 39,
   "metadata": {},
   "outputs": [
    {
     "data": {
      "text/html": [
       "<div>\n",
       "<style scoped>\n",
       "    .dataframe tbody tr th:only-of-type {\n",
       "        vertical-align: middle;\n",
       "    }\n",
       "\n",
       "    .dataframe tbody tr th {\n",
       "        vertical-align: top;\n",
       "    }\n",
       "\n",
       "    .dataframe thead th {\n",
       "        text-align: right;\n",
       "    }\n",
       "</style>\n",
       "<table border=\"1\" class=\"dataframe\">\n",
       "  <thead>\n",
       "    <tr style=\"text-align: right;\">\n",
       "      <th></th>\n",
       "      <th>tavg</th>\n",
       "      <th>tmin</th>\n",
       "      <th>tmax</th>\n",
       "      <th>prcp</th>\n",
       "      <th>snow</th>\n",
       "      <th>wdir</th>\n",
       "      <th>wspd</th>\n",
       "      <th>wpgt</th>\n",
       "      <th>pres</th>\n",
       "      <th>tsun</th>\n",
       "    </tr>\n",
       "    <tr>\n",
       "      <th>time</th>\n",
       "      <th></th>\n",
       "      <th></th>\n",
       "      <th></th>\n",
       "      <th></th>\n",
       "      <th></th>\n",
       "      <th></th>\n",
       "      <th></th>\n",
       "      <th></th>\n",
       "      <th></th>\n",
       "      <th></th>\n",
       "    </tr>\n",
       "  </thead>\n",
       "  <tbody>\n",
       "    <tr>\n",
       "      <th>2021-01-01</th>\n",
       "      <td>8.1</td>\n",
       "      <td>5.0</td>\n",
       "      <td>12.8</td>\n",
       "      <td>16.5</td>\n",
       "      <td>0.0</td>\n",
       "      <td>56.0</td>\n",
       "      <td>12.6</td>\n",
       "      <td>NaN</td>\n",
       "      <td>1024.4</td>\n",
       "      <td>NaN</td>\n",
       "    </tr>\n",
       "    <tr>\n",
       "      <th>2021-01-02</th>\n",
       "      <td>8.1</td>\n",
       "      <td>5.6</td>\n",
       "      <td>13.9</td>\n",
       "      <td>15.2</td>\n",
       "      <td>0.0</td>\n",
       "      <td>313.0</td>\n",
       "      <td>5.0</td>\n",
       "      <td>NaN</td>\n",
       "      <td>1016.4</td>\n",
       "      <td>NaN</td>\n",
       "    </tr>\n",
       "    <tr>\n",
       "      <th>2021-01-03</th>\n",
       "      <td>10.7</td>\n",
       "      <td>6.7</td>\n",
       "      <td>12.8</td>\n",
       "      <td>23.6</td>\n",
       "      <td>0.0</td>\n",
       "      <td>4.0</td>\n",
       "      <td>5.0</td>\n",
       "      <td>NaN</td>\n",
       "      <td>1013.1</td>\n",
       "      <td>NaN</td>\n",
       "    </tr>\n",
       "    <tr>\n",
       "      <th>2021-01-04</th>\n",
       "      <td>6.4</td>\n",
       "      <td>1.1</td>\n",
       "      <td>9.4</td>\n",
       "      <td>0.0</td>\n",
       "      <td>0.0</td>\n",
       "      <td>352.0</td>\n",
       "      <td>1.8</td>\n",
       "      <td>NaN</td>\n",
       "      <td>1016.4</td>\n",
       "      <td>NaN</td>\n",
       "    </tr>\n",
       "    <tr>\n",
       "      <th>2021-01-05</th>\n",
       "      <td>2.8</td>\n",
       "      <td>-1.6</td>\n",
       "      <td>8.9</td>\n",
       "      <td>0.0</td>\n",
       "      <td>0.0</td>\n",
       "      <td>341.0</td>\n",
       "      <td>2.2</td>\n",
       "      <td>NaN</td>\n",
       "      <td>1014.1</td>\n",
       "      <td>NaN</td>\n",
       "    </tr>\n",
       "  </tbody>\n",
       "</table>\n",
       "</div>"
      ],
      "text/plain": [
       "            tavg  tmin  tmax  prcp  snow   wdir  wspd  wpgt    pres  tsun\n",
       "time                                                                     \n",
       "2021-01-01   8.1   5.0  12.8  16.5   0.0   56.0  12.6   NaN  1024.4   NaN\n",
       "2021-01-02   8.1   5.6  13.9  15.2   0.0  313.0   5.0   NaN  1016.4   NaN\n",
       "2021-01-03  10.7   6.7  12.8  23.6   0.0    4.0   5.0   NaN  1013.1   NaN\n",
       "2021-01-04   6.4   1.1   9.4   0.0   0.0  352.0   1.8   NaN  1016.4   NaN\n",
       "2021-01-05   2.8  -1.6   8.9   0.0   0.0  341.0   2.2   NaN  1014.1   NaN"
      ]
     },
     "execution_count": 39,
     "metadata": {},
     "output_type": "execute_result"
    }
   ],
   "source": [
    "# the package uses datetime format dates!\n",
    "st_date, end_date = datetime(2021,1,1), datetime(2022,1,1)\n",
    "\n",
    "# Create Point for Lake Raleigh\n",
    "# add Lake Raleigh's lat and long here! It must be a number, for instance, 37.76 and -18.68\n",
    "lat, long =  , # <-- add lat and long here.\n",
    "lake_raleigh = Point(lat,long)\n",
    "\n",
    "# Get daily data between Jan 2021 and Jan 2022\n",
    "weather_data = Daily(lake_raleigh, st_date, end_date)\n",
    "weather_data = weather_data.fetch()\n",
    "\n",
    "weather_data.head()"
   ]
  },
  {
   "cell_type": "code",
   "execution_count": 40,
   "metadata": {},
   "outputs": [
    {
     "data": {
      "image/png": "[encoded data removed]",
      "text/plain": [
       "<Figure size 720x432 with 1 Axes>"
      ]
     },
     "metadata": {
      "needs_background": "light"
     },
     "output_type": "display_data"
    }
   ],
   "source": [
    "# plot precipitation\n",
    "fig, ax = plt.subplots(figsize=(10, 6))\n",
    "ax.bar(weather_data.loc[st_date:end_date].index.values, weather_data.loc[st_date:end_date]['prcp'].values)\n",
    "plt.ylabel('Precipitation (mm)')\n",
    "plt.title(f'Precipitation for Lake Raleigh')\n",
    "plt.show()"
   ]
  },
  {
   "cell_type": "markdown",
   "metadata": {},
   "source": [
    "#### Correlation between streamflow and precipitation\n",
    "\n",
    "We can calculate Pearson's correlation using the covariance of streamflow and precipitation, divided by the product of their standard deviation.\n",
    "\n",
    "Pearson's correlation coefficient = covariance(streamflow, precipitation) / (stdv(streamflow) * stdv(precipitation))\n",
    "\n",
    "Or we can simply use numpy's function **np.corrcoef()**, for further details check the function's [documentation](https://numpy.org/doc/stable/reference/generated/numpy.corrcoef.html)."
   ]
  },
  {
   "cell_type": "code",
   "execution_count": 46,
   "metadata": {},
   "outputs": [],
   "source": [
    "import numpy as np"
   ]
  },
  {
   "cell_type": "code",
   "execution_count": 59,
   "metadata": {},
   "outputs": [
    {
     "data": {
      "image/png": "[encoded data removed]",
      "text/plain": [
       "<Figure size 432x288 with 1 Axes>"
      ]
     },
     "metadata": {
      "needs_background": "light"
     },
     "output_type": "display_data"
    }
   ],
   "source": [
    "streamflow = daily_mean_values.iloc[:,0].values\n",
    "precip = weather_data['prcp'].values\n",
    "p_corr = np.corrcoef(streamflow, precip)\n",
    "\n",
    "plt.scatter(streamflow, precip)\n",
    "plt.text(0,100,f\"Pearson's correlation: {np.round(p_corr[1, 0],2)}\")\n",
    "plt.ylabel('Streamflow (ft3/s)')\n",
    "plt.xlabel('Precipitation (mm)')\n",
    "plt.title(f'Correlation between streaflow and precipitation')\n",
    "plt.show()"
   ]
  }
 ],
 "metadata": {
  "kernelspec": {
   "display_name": "Python 3.7.12 ('global_floods')",
   "language": "python",
   "name": "python3"
  },
  "language_info": {
   "codemirror_mode": {
    "name": "ipython",
    "version": 3
   },
   "file_extension": ".py",
   "mimetype": "text/x-python",
   "name": "python",
   "nbconvert_exporter": "python",
   "pygments_lexer": "ipython3",
   "version": "3.7.12"
  },
  "orig_nbformat": 4,
  "vscode": {
   "interpreter": {
    "hash": "f34b5ad0d482c058a1e2fd863b728785925b0c06f0ccc01e8484b52820883053"
   }
  }
 },
 "nbformat": 4,
 "nbformat_minor": 2
}
