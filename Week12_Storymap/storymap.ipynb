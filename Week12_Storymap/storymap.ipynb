{
 "cells": [
  {
   "cell_type": "markdown",
   "metadata": {},
   "source": [
    "# Creating a Story Map Using Leaflet and CSVs\n",
    "\n",
    "---\n",
    "\n",
    "**Objectives:**\n",
    "\n",
    "By the end of this exericse, you should be able to:\n",
    "\n",
    "* Create an HTML page\n",
    "* Host an interactive map (Leaflet) on GitHub Pages\n",
    "* Create a storymap using Python, Leaflet, and CSV files\n",
    "\n",
    "---\n",
    "\n",
    "In this exercise, you will learn how to present spatial data in an interactive narrative similar to [ESRI StoryMaps](https://storymaps-classic.arcgis.com/en/gallery/#s=0) using open source products. You will learn how to host a live version of an HTML webpage on GitHub Pages.\n",
    "\n",
    "<!-- If you double-click on the `raleigh.html` file in your folder, a map will open in your web browser. Next, let's open the `raleigh.html` file in **VS Code**. -->\n",
    "\n",
    "This code is adapted from the `index.html` file from [this GitHub repository](https://github.com/HandsOnDataViz/leaflet-map-simple).\n",
    "\n",
    "This exercise is an adaptation of the [\"Leaflet Storymaps with Google Sheets\" tutorial](https://handsondataviz.org/leaflet-storymaps-with-google-sheets.html) from the *Hands-On Data Visualization* book by Jack Dougherty & Ilya Ilyankou. The open-acess web edition of the book can be found [here](https://handsondataviz.org/).\n",
    "\n",
    "Dougherty and Ilyankou developed Leaflet Storymaps with Google Sheets to create an open-source, easily migratable, story map tool. In this exercise, we are adapting their work with Google Sheets into using Python to create and edit CSVs to create the open-source storymap."
   ]
  },
  {
   "cell_type": "markdown",
   "metadata": {},
   "source": [
    "### Host a Live Leaflet Map on GitHub Pages\n",
    "\n",
    "In order to host your storymap on the internet, you need to create a GitHub repository for this project. The best way to do this is to **fork** the leaflet-storymap-nr491 repo from [this repo](https://github.com/mdgaines/leaflet-storymap-nr491) on my (Mollie Gaines') GitHub.\n",
    "\n",
    "Go to Settings > Pages and set Branch to `main` and save.\n",
    "\n",
    "Edit your README.md to have the link to your new repo."
   ]
  },
  {
   "cell_type": "markdown",
   "metadata": {},
   "source": [
    "### Leaflet Storymap with CSVs\n",
    "\n",
    "We are now going to start working on our Leaflet Storymap by building several `pandas dataframes` which we can save as a CSVs.\n",
    "\n",
    "Our storymap will have a scrolling narrative that follows points along our map. You will learn how to add images, audio and video files, and different map backgrounds. \n",
    "\n",
    "We will build an in-class storymap to looking at different colleges and universities in Wake County."
   ]
  },
  {
   "cell_type": "code",
   "execution_count": null,
   "metadata": {},
   "outputs": [],
   "source": [
    "import pandas as pd\n",
    "import geopandas as gpd\n",
    "import os\n",
    "import folium\n",
    "import csv"
   ]
  },
  {
   "cell_type": "markdown",
   "metadata": {},
   "source": [
    "First, we will create an `Options.csv` file and save it in our `csv/` directory. We will create this CSV to look like the **Options** tab in the Google Sheet from the HODV exercise.\n",
    "\n",
    "![GS_Options](./imgs/gs_options.PNG)"
   ]
  },
  {
   "cell_type": "code",
   "execution_count": null,
   "metadata": {},
   "outputs": [],
   "source": [
    "# Create lists for each row we are writing in our csv\n",
    "header = ['Setting', 'Customize', 'Hints']\n",
    "info = ['Storymap Info', '', \\\n",
    "    'For help, see tutorial in [HandsOnDataViz.org](https://handsondataviz.org/leaflet-storymaps-with-google-sheets.html)']\n",
    "title = ['Storymap Title', 'NR491 Leaflet Storymap Demo', '']\n",
    "subtitle = ['Storymap Subtitle', \\\n",
    "    \"Colleges and Universities in Wake County<br><small>Scroll down<i class='fafa-chevron-down'></i></small>\",\\\n",
    "    \"Add your subtitle, or delete that portion\"]\n",
    "logo = ['Storymap Logo', 'media/ncsu_logo.jpg', 'Path to a logo image']\n",
    "google_analysis = ['Google Analytics Tracking ID', '', 'Sample format: UA-5488840-29']\n",
    "\n",
    "map_settings = ['Map Settings', '', '']\n",
    "basemap_tiles = ['Basemap Tiles', 'CartoDB.Positron',\\\n",
    "    '[Drop-down menu for background basemap tiles](https://leaflet-extras.github.io/leaflet-providers/preview/)']\n",
    "zoom = ['Zoom Controls', 'bottomright', '']\n",
    "bg_color = ['Narrative Background Color', '', '']\n",
    "txt_color = ['Narrative Text Color', '', '']\n",
    "lnk_color = ['Narrative Link Color', '', '']\n",
    "ch_color = ['Active Chapter Background Color','','']\n",
    "media_height = ['Media Container Height','300',\\\n",
    "    'Maximum height of the image, in pixels. 200 is default. The image will be fit into the container with its proportions kept (it won\\'t be skewed).']\n",
    "pixels_after_char = ['Pixels After Final Chapter','600','In pixels, at least 100']\n",
    "lightbox_imgs = ['Enable Lightbox for Images','yes','yes or no']\n",
    "\n",
    "creds = ['Credits','','']\n",
    "auth_name = ['Author Name','Add your name','Appears in map credits as \"View data by...\" (or leave blank)']\n",
    "auth_email = ['Author Email or Website','','Create link in Author Name by inserting your email or web address (or leave blank)']\n",
    "auth_GH = ['Author GitHub Repo Link','https://github.com/handsondataviz/leaflet-storymaps-with-google-sheets',\\\n",
    "    'Insert your code repo URL to appear as link in \"View code...\" (or leave blank)']\n",
    "code_cred = ['Code Credit','<a href=\"https://handsondataviz.org\">HandsOnDataViz</a>',\\\n",
    "    'Appears in credits as \"...code by...\" (or leave blank)']"
   ]
  },
  {
   "cell_type": "markdown",
   "metadata": {},
   "source": [
    "**NOTE:** you can have several different basemap tiles that will appear in the background. \n",
    "The options we will look at are:\n",
    "\n",
    "![Basemaps](./imgs/gs_basemap_tiles.PNG)\n",
    "\n",
    "We can also choose where on our map we put our zoom controls. The options are:\n",
    "\n",
    "![zoom](./imgs/gs_zoom.PNG)\n",
    "\n",
    "Now, we'll write our first CSV."
   ]
  },
  {
   "cell_type": "code",
   "execution_count": null,
   "metadata": {},
   "outputs": [],
   "source": [
    "# Check that the csv directory exists\n",
    "if not os.path.exists('./csv'):\n",
    "    os.mkdir('./csv')\n",
    "\n",
    "# Create a new Options.csv\n",
    "\n",
    "# opens a csv file in write mode\n",
    "# the wuth statement makes sure the file closes properly when we're done\n",
    "with open('./csv/Options_Template.csv', 'w', newline='') as options:\n",
    "    # create the csv writer\n",
    "    writer = csv.writer(options)\n",
    "\n",
    "    # write a row to the csv file\n",
    "    writer.writerow(header)\n",
    "\n",
    "    writer.writerow(info)\n",
    "    writer.writerow(title)\n",
    "    writer.writerow(subtitle)\n",
    "    writer.writerow(logo)\n",
    "    writer.writerow(google_analysis)\n",
    "\n",
    "    writer.writerow(map_settings)\n",
    "    writer.writerow(basemap_tiles)\n",
    "    writer.writerow(zoom)\n",
    "    writer.writerow(bg_color)\n",
    "    writer.writerow(txt_color)\n",
    "    writer.writerow(lnk_color)\n",
    "    writer.writerow(ch_color)\n",
    "    writer.writerow(media_height)\n",
    "    writer.writerow(pixels_after_char)\n",
    "    writer.writerow(lightbox_imgs)\n",
    "\n",
    "    writer.writerow(creds)\n",
    "    writer.writerow(auth_name)\n",
    "    writer.writerow(auth_email)\n",
    "    writer.writerow(auth_GH)\n",
    "    writer.writerow(code_cred)\n"
   ]
  },
  {
   "cell_type": "markdown",
   "metadata": {},
   "source": [
    "Now that we've saved our CSV, we will read it in as a Pandas DataFrame and make some edits so it is personalized for us.\n",
    "\n",
    "**Note:** We could have written our original CSV with all the information we wanted, however now we can practice making edits."
   ]
  },
  {
   "cell_type": "code",
   "execution_count": null,
   "metadata": {},
   "outputs": [],
   "source": [
    "# read in the options csv as a data frame\n",
    "options_df = pd.read_csv('./csv/Options_Template.csv', index_col=0)\n",
    "options_df"
   ]
  },
  {
   "cell_type": "code",
   "execution_count": null,
   "metadata": {},
   "outputs": [],
   "source": [
    "# we will index to the specific entry we want to edit using df[col][row] indexing.\n",
    "# we read in the df with the first column as our index to make this easier for ourselves\n",
    "\n",
    "# here, we are changing the background color of our narative bar\n",
    "options_df['Customize']['Narrative Background Color'] = 'lightgray'\n",
    "\n",
    "options_df"
   ]
  },
  {
   "cell_type": "code",
   "execution_count": null,
   "metadata": {},
   "outputs": [],
   "source": [
    "# Next, make edits to the Author Name and Author Github Repo Link so it has your information\n",
    "\n",
    "\n",
    "# save your options df as Options.csv\n"
   ]
  },
  {
   "cell_type": "markdown",
   "metadata": {},
   "source": [
    "Now let's checkout what our index.html file looks like so far."
   ]
  },
  {
   "cell_type": "markdown",
   "metadata": {},
   "source": [
    "### Chapters\n",
    "\n",
    "We will add content to our map by creating a `Chapters.csv`.\n",
    "\n",
    "However, first we will look through our data to get the information we are interested in."
   ]
  },
  {
   "cell_type": "markdown",
   "metadata": {},
   "source": [
    "Now, let's read in some of our spatial data."
   ]
  },
  {
   "cell_type": "code",
   "execution_count": null,
   "metadata": {},
   "outputs": [],
   "source": [
    "# Filepaths\n",
    "nc_colleges_path = './data/Colleges_and_Universities/Colleges_and_Universities.shp'\n",
    "nc_amtrak_stations_path = './data/Amtrak_Stations_Trains_Reproj_NC/Amtrak_Stations_Trains_Reproj_NC.shp'\n",
    "\n",
    "# Read data\n",
    "nc_colleges = gpd.read_file(nc_colleges_path)\n",
    "nc_amtrak_stations = gpd.read_file(nc_amtrak_stations_path)\n",
    "\n",
    "# Print CRS\n",
    "print(nc_colleges.crs)\n",
    "print(nc_amtrak_stations.crs)\n"
   ]
  },
  {
   "cell_type": "code",
   "execution_count": null,
   "metadata": {},
   "outputs": [],
   "source": [
    "# Reproject to WGS84\n",
    "nc_colleges_wgs84 = nc_colleges.to_crs(epsg=4326)\n",
    "nc_amtrak_stations_wgs84 = nc_amtrak_stations.to_crs(epsg=4326)\n",
    "\n",
    "# Create a Geo-id which is needed by the Folium (it needs to have a unique identifier for each row)\n",
    "nc_colleges_wgs84['geoid'] = nc_colleges_wgs84.index.astype(str)\n",
    "nc_amtrak_stations_wgs84['geoid'] = nc_amtrak_stations_wgs84.index.astype(str)"
   ]
  },
  {
   "cell_type": "markdown",
   "metadata": {},
   "source": [
    "We can use the `folium` package to see what our Leaflet map will look like."
   ]
  },
  {
   "cell_type": "code",
   "execution_count": null,
   "metadata": {},
   "outputs": [],
   "source": [
    "# Create a Map instance centered on Raleigh\n",
    "m = folium.Map(location=[35.7796, -78.6382], zoom_start=8, control_scale=True)\n",
    "m"
   ]
  },
  {
   "cell_type": "code",
   "execution_count": null,
   "metadata": {},
   "outputs": [],
   "source": [
    "# Show the colleges on the map\n",
    "\n",
    "# Create college points on top of the map\n",
    "for idx, row in nc_colleges_wgs84.iterrows():\n",
    "    # Get lat and lon of points\n",
    "    lon = row['geometry'].x\n",
    "    lat = row['geometry'].y\n",
    "\n",
    "    # Get college information\n",
    "    college_name = row['NAME']\n",
    "\n",
    "    #Add markers to the map\n",
    "    folium.Marker([lat,lon], popup=college_name).add_to(m)\n",
    "\n",
    "m"
   ]
  },
  {
   "cell_type": "markdown",
   "metadata": {},
   "source": [
    "Let's parse this data down to schools in Raleigh, and remove some of the information we are not interested in."
   ]
  },
  {
   "cell_type": "code",
   "execution_count": null,
   "metadata": {},
   "outputs": [],
   "source": [
    "nc_coll_raleigh = nc_colleges_wgs84[nc_colleges_wgs84['CITY'] == 'RALEIGH'].drop(['OBJECTID', \\\n",
    "    'METLNKID', 'PHONE', 'SECCLASS', 'ST_VENDOR', 'ST_VERSION', 'ADDRESS2', 'EMERGTITLE', 'EMERGPHONE',\n",
    "    'EMERGEXT', 'DIRECTIONS', 'CONTDATE', 'CONTHOW', 'GEOPREC', 'QC_QA', 'onemapSDEA', \\\n",
    "    'GEOHOW', 'GEOLINKID', 'GEODATE', 'PHONELOC'], axis=1)\n",
    "nc_coll_raleigh"
   ]
  },
  {
   "cell_type": "markdown",
   "metadata": {},
   "source": [
    "We will build our storymap with each of these schools as a chapter.\n",
    "\n",
    "Now, let's make our `Chapters.csv` with specific column headers (**do not change the headers, they work with the background Leaflet code**) and a row for each of our chapters."
   ]
  },
  {
   "cell_type": "code",
   "execution_count": null,
   "metadata": {},
   "outputs": [],
   "source": [
    "header = ['Chapter', 'Media Link', 'Media Credit', 'Media Credit Link', 'Description', \\\n",
    "    'Zoom', 'Marker', 'Marker Color', 'Location', 'Latitude', 'Longitude', 'Overlay', 'Overlay Transparency', \\\n",
    "    'GeoJSON Overlay', 'GeoJSON Feature Properties']\n",
    "\n",
    "# add a column of founding date to our nc_coll_raleigh df\n",
    "nc_coll_raleigh['FOUNDED'] = None\n",
    "nc_coll_raleigh"
   ]
  },
  {
   "cell_type": "code",
   "execution_count": null,
   "metadata": {},
   "outputs": [],
   "source": [
    "nc_coll_raleigh.loc[[22], ['FOUNDED']] = 1857 # Peace College\n",
    "nc_coll_raleigh.loc[[32], ['FOUNDED']] = 1865 # Shaw University\n",
    "nc_coll_raleigh.loc[[65], ['FOUNDED']] = 1867 # St. Augustune's University\n",
    "nc_coll_raleigh.loc[[97], ['FOUNDED']] = 1887 # NC State University\n",
    "nc_coll_raleigh.loc[[57], ['FOUNDED']] = 1891 # Meredith College\n",
    "nc_coll_raleigh.loc[[19], ['FOUNDED']] = 1963 # Wake Tech\n",
    "nc_coll_raleigh.loc[[49], ['FOUNDED']] = 1976 # University of Phoenix\n",
    "nc_coll_raleigh.loc[[0], ['FOUNDED']] = 1992 # School of communication arts\n",
    "\n",
    "nc_coll_raleigh = nc_coll_raleigh.sort_values(by='FOUNDED')\n",
    "nc_coll_raleigh"
   ]
  },
  {
   "cell_type": "code",
   "execution_count": null,
   "metadata": {},
   "outputs": [],
   "source": [
    "col_names = [name.title() for name in nc_coll_raleigh.NAME]\n",
    "col_names"
   ]
  },
  {
   "cell_type": "code",
   "execution_count": null,
   "metadata": {},
   "outputs": [],
   "source": [
    "# Create a new Chapters.csv\n",
    "\n",
    "# opens a csv file in write mode\n",
    "# the wuth statement makes sure the file closes properly when we're done\n",
    "with open('./csv/Chapters.csv', 'w', newline='') as options:\n",
    "    # create the csv writer\n",
    "    writer = csv.writer(options)\n",
    "\n",
    "    # write a row to the csv file\n",
    "    writer.writerow(header)\n",
    "\n",
    "    writer.writerow(['Overview of Raleigh'])\n",
    "\n",
    "    for name in col_names:\n",
    "        writer.writerow([name])"
   ]
  },
  {
   "cell_type": "code",
   "execution_count": null,
   "metadata": {},
   "outputs": [],
   "source": [
    "chapter_df = pd.read_csv('./csv/Chapters.csv')\n",
    "chapter_df"
   ]
  },
  {
   "cell_type": "markdown",
   "metadata": {},
   "source": [
    "Our first chapter will give a brief overview of Raleigh. We will include a fun skyline image with a link to where we got the image (the Raleigh government webpage). Our map will show a historical, georeferenced map of the Raleigh City Plan from 1834 along with blue markers for each of the 8 schools we will look at for chapters.\n",
    "\n",
    "To include images in our narative, we need to have them downloaded to our `media` directory."
   ]
  },
  {
   "cell_type": "code",
   "execution_count": null,
   "metadata": {},
   "outputs": [],
   "source": [
    "chapter_df.columns"
   ]
  },
  {
   "cell_type": "code",
   "execution_count": null,
   "metadata": {},
   "outputs": [],
   "source": [
    "# path to the image used for this chapter\n",
    "chapter_df.loc[[0], ['Media Link']] = 'media/visit_raleigh.jpg'\n",
    "# Name of image source\n",
    "chapter_df.loc[[0], ['Media Credit']] = 'Source: Raleigh Government'\n",
    "# Link to image\n",
    "chapter_df.loc[[0], ['Media Credit Link']] = 'https://raleighnc.gov/'\n",
    "# Narrative description\n",
    "chapter_df.loc[[0], ['Description']] = 'Before European colonization, the Raleigh area was home to indigenous \\\n",
    "    tribes including the Tuscarora and Occaneechi. Sir Walter Raleigh, among others, funded a group of colonists \\\n",
    "    to establish the <em>Cittie of Raleigh</em>. These colonists landed on Roanoke Island in <b>1587</b> and \\\n",
    "    later became known as the \"Lost Colony\" after the settlement was found abandonded in 1590. In <b>1770</b> \\\n",
    "    the General Assembly created Wake County. In <b>1792</b>, Raleigh was founded as the state capital of North Carolina.'\n",
    "# Zoom level\n",
    "chapter_df.loc[[0], ['Zoom']] = 15.75\n",
    "# Markers can be Hidden, Plain, or Numbered\n",
    "chapter_df.loc[[0], ['Marker']] = 'Hidden'\n",
    "# if the marker is not Hidden, you can give it a color\n",
    "chapter_df.loc[[0], ['Marker Color']] = ''\n",
    "# name of the location\n",
    "chapter_df.loc[[0], ['Location']] = 'Raleigh, NC'\n",
    "chapter_df.loc[[0], ['Latitude']] = 35.7796\n",
    "chapter_df.loc[[0], ['Longitude']] = -78.6382\n",
    "# If you want to add an overlay of an old map you can search for a georeferenced map at\n",
    "# mapwraper.net\n",
    "# add the link to the map in the Overlay section \n",
    "chapter_df.loc[[0], ['Overlay']] = 'https://mapwarper.net/maps/tile/51816/{z}/{x}/{y}.png'\n",
    "# Set how transparent you want the Overlay image/map to be\n",
    "chapter_df.loc[[0], ['Overlay Transparency']] = 0.9\n"
   ]
  },
  {
   "cell_type": "code",
   "execution_count": null,
   "metadata": {},
   "outputs": [],
   "source": [
    "chapter_df"
   ]
  },
  {
   "cell_type": "code",
   "execution_count": null,
   "metadata": {},
   "outputs": [],
   "source": [
    "# nc_coll_raleigh = nc_coll_raleigh.reset_index()\n",
    "nc_coll_raleigh.head()"
   ]
  },
  {
   "cell_type": "code",
   "execution_count": null,
   "metadata": {},
   "outputs": [],
   "source": [
    "for i in nc_coll_raleigh.index:\n",
    "    # print(nc_coll_raleigh.iloc[i])\n",
    "    school_name = nc_coll_raleigh.loc[[i], ['NAME']].values[0][0].title()\n",
    "    lat = nc_coll_raleigh.loc[[i], ['Y']].values[0][0]\n",
    "    lon = nc_coll_raleigh.loc[[i], ['X']].values[0][0]\n",
    "    address = nc_coll_raleigh.loc[[i], ['ADDRESS']].values[0][0]\n",
    "\n",
    "    chapter_df.loc[chapter_df['Chapter'] == school_name, 'Latitude'] = lat\n",
    "    chapter_df.loc[chapter_df['Chapter'] == school_name, 'Longitude'] = lon\n",
    "    chapter_df.loc[chapter_df['Chapter'] == school_name, 'Location'] = address\n",
    "\n",
    "    chapter_df.loc[chapter_df['Chapter'] == school_name, 'Zoom'] = 16\n",
    "    chapter_df.loc[chapter_df['Chapter'] == school_name, 'Marker'] = 'Plain'\n",
    "    chapter_df.loc[chapter_df['Chapter'] == school_name, 'Marker Color'] = 'blue'\n",
    "\n",
    "chapter_df\n"
   ]
  },
  {
   "cell_type": "markdown",
   "metadata": {},
   "source": [
    "Now, let's save this to a CSV and see how this changes our storymap."
   ]
  },
  {
   "cell_type": "code",
   "execution_count": null,
   "metadata": {},
   "outputs": [],
   "source": [
    "chapter_df.to_csv('./csv/Chapters.csv')"
   ]
  },
  {
   "cell_type": "markdown",
   "metadata": {},
   "source": [
    "We have a map! We also have some images, links, and narrative text appearing.\n",
    "\n",
    "Now, let's add a new image and image source information for Peace College."
   ]
  },
  {
   "cell_type": "code",
   "execution_count": null,
   "metadata": {},
   "outputs": [],
   "source": [
    "# Add an image for our Peace College Chapter\n",
    "chapter_df.loc[1, \"Media Link\"] = \"media/peace.jpg\"\n",
    "\n",
    "# add source name\n",
    "chapter_df.loc[1, \"Media Credit\"] = \"Image Source: Niche\"\n",
    "\n",
    "# add the source link\n",
    "chapter_df.loc[1, \"Media Credit Link\"] = \"https://www.niche.com/colleges/william-peace-university/\""
   ]
  },
  {
   "cell_type": "code",
   "execution_count": null,
   "metadata": {},
   "outputs": [],
   "source": [
    "# Check our work\n",
    "chapter_df.head()"
   ]
  },
  {
   "cell_type": "code",
   "execution_count": null,
   "metadata": {},
   "outputs": [],
   "source": [
    "# Add to the Description of Peace College including when it was founded and an interesting fact about it\n",
    "\n"
   ]
  },
  {
   "cell_type": "markdown",
   "metadata": {},
   "source": [
    "Next, we'll look at adding a video to our narrative bar.\n",
    "\n",
    "In order to add a YouTube video to our storymap, we need to first find a YouTube video we want to add. For this example, let's follow [this link](https://www.youtube.com/watch?v=aZQFQnbs_Ho) to a fan-made hype video of the NC State Football Team.\n",
    "\n",
    "Next, click the `Share` button at the bottom right of the video and then click `Embed`. Next, **only** copy the link that appears after `src=\"`. We will use that in our next code chunk.\n",
    "\n",
    "<!-- Link that should be copied: https://www.youtube.com/embed/aZQFQnbs_Ho\" -->"
   ]
  },
  {
   "cell_type": "code",
   "execution_count": null,
   "metadata": {},
   "outputs": [],
   "source": [
    "# Add our copied embed youtube link to the \"Media Link\" column for NC State\n",
    "\n",
    "\n",
    "# Save to Chapters.csv \n"
   ]
  },
  {
   "cell_type": "markdown",
   "metadata": {},
   "source": [
    "Let's look at our `index.html` again. What has changed? Does it look the way you expect?\n",
    "\n",
    "### Overlay GeoJSON\n",
    "\n",
    "Next, we'll add a GeoJSON file to our map. Leaflet uses GeoJSONs instead of Shapefiles. If you mostly use Shapefiles, just open them into QGIS and save them as GeoJSONs to get them ready for the storymap.\n",
    "\n",
    "All of our GeoJSONs need be saved in the `geojson` folder.\n",
    "\n",
    "**Important:** Your GeoJSON files **MUST** be in a recognized projection and have a `\"crs\"` attribute. *It will be easiest for you if they are all in the same CRS.*\n",
    "\n",
    "Let's add our GeoJSON of NC State's campuses."
   ]
  },
  {
   "cell_type": "code",
   "execution_count": null,
   "metadata": {},
   "outputs": [],
   "source": [
    "chapter_df.loc[4, \"GeoJSON Overlay\"] = \"geojson/NCSU_campuses.geojson\"\n",
    "\n",
    "# We can also set different parameters for the GeoJSON\n",
    "# These parameters are: fillColor, weight, opacity, color, and fillOpacity\n",
    "chapter_df.loc[4, \"GeoJSON Feature Properties\"] = \"fillColor:red;color:black\"\n",
    "\n",
    "# save the Chapters.csv and look at the index.html file\n"
   ]
  },
  {
   "cell_type": "markdown",
   "metadata": {},
   "source": [
    "To change a specific campus color, we will need to edit the GeoJSON itself.\n",
    "\n",
    "*NOTE: I am working on integrating another set of Leaflet code so that you will not have to manually edit the GeoJSON files, but it's not ready yet.*\n",
    "\n",
    "To edit the GeoJSON file, open it with a text-editor (like Notepad) or in VS Code. Use `ctrl+f` to find `\"properties\"`. GeoJSON files are essentially full of dictionaries. After the `\"Precinct_N\"` key:value pair, add `\"fillColor\": \"blue\",` and save your changes.\n",
    "\n",
    "Refresh your `index.html`. Do you see any changes? (Note: it can take a while for changes to be fully processed. Make sure everything is saved.)"
   ]
  },
  {
   "cell_type": "code",
   "execution_count": null,
   "metadata": {},
   "outputs": [],
   "source": [
    "# Add Wake county census tracts to your map for a chapter of your choice\n",
    "\n",
    "\n",
    "# Try to change the census tract for the school in your chapter to a different color"
   ]
  },
  {
   "cell_type": "markdown",
   "metadata": {},
   "source": [
    "Now, let's add another historic map of Raleigh. Go to https://mapwarper.net/ and put \"raleigh\" in the search bar. Select \"Rectified maps only\" and search. \n",
    "\n",
    "Look through the maps and find one you want to use. Click on the \"Export\" tab at the top and copy the link from the \"Tiles (Google/OSM scheme):\" option.\n",
    "\n",
    "<!-- https://mapwarper.net/maps/tile/44859/{z}/{x}/{y}.png -->"
   ]
  },
  {
   "cell_type": "code",
   "execution_count": null,
   "metadata": {},
   "outputs": [],
   "source": [
    "# Add this link to the Overlay column to a chapter of your choice\n",
    "# remember, if the historical map does not overlap with the school for that chapter, \n",
    "# we will need to manually zoom out to see it or change our zoom settings\n",
    "\n"
   ]
  },
  {
   "cell_type": "markdown",
   "metadata": {},
   "source": [
    "Try adding new images, text, vidoes, and GeoJSON files to different chapters. \n",
    "Remember to add the data we are adding to their respective folders."
   ]
  },
  {
   "cell_type": "markdown",
   "metadata": {},
   "source": []
  }
 ],
 "metadata": {
  "kernelspec": {
   "display_name": "Python 3.10.2 ('dswe')",
   "language": "python",
   "name": "python3"
  },
  "language_info": {
   "codemirror_mode": {
    "name": "ipython",
    "version": 3
   },
   "file_extension": ".py",
   "mimetype": "text/x-python",
   "name": "python",
   "nbconvert_exporter": "python",
   "pygments_lexer": "ipython3",
   "version": "3.10.2"
  },
  "orig_nbformat": 4,
  "vscode": {
   "interpreter": {
    "hash": "706dd80fecb94a516eb598739559eb7d29ee8d341a252f74e6dbcc3dc05a40d3"
   }
  }
 },
 "nbformat": 4,
 "nbformat_minor": 2
}
