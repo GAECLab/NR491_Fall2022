{
 "cells": [
  {
   "cell_type": "markdown",
   "metadata": {},
   "source": [
    "# Introduction to Raster Data in Python and QGIS\n",
    "---\n",
    "\n",
    "**Objectives:**\n",
    "\n",
    "By the end of this exercise, you should be able to:\n",
    "\n",
    "* explain the difference between raster and vector data\n",
    "* open raster data using a GeoTiff in Python and QGIS\n",
    "* determine the metadata - including CRS, resolution, and extent - of a raster image in Python and QGIS\n",
    "* describe the difference between continuous and classified raster data and provide an example of each\n",
    "* visualize a raster image and the distribution of pixel values in Python and QGIS\n",
    "* calculate the minimum and maximum pixel values\n",
    "* plot a raster and vector layer on one map\n",
    "* clip a raster image using a vector layer\n",
    "<!-- * summarize raster values at specific points -->\n",
    "---"
   ]
  },
  {
   "cell_type": "markdown",
   "metadata": {},
   "source": [
    "This exercise builds on our introduction to spatial data and analysis in Python from the `vectorData_exercise`. In this exercise, we are focusing on raster data, which are gridded data, and have an array of uses including photograps and satellite imagery. These data are stored as a grid of values, where each value on the grid is a pixel on a map or in an image. \n",
    "\n",
    "<p align=\"center\">\n",
    "    <img src='imgs/intro_raster.png' width='500' /> \n",
    "    <figcaption>Fig.1 - An example of a raster (gridded data), its values, and how they can be visualized to represent the Earth's surface. Source: Collin Williams, NEON.\n",
    "</p>\n",
    "\n",
    "For spatial data, rasters are spatially referenced and each pixel represents an area on the Earth's surface. The area of the Earth's surface that the pixel represents is the **spatial resolution** of the raster. For example, a 30 meter resolution raster means that each pixel represents a 30 m by 30 m area on the Earth.\n",
    "\n",
    "<p align=\"center\">\n",
    "    <img src='imgs/raster_resolutions.png' width='700' /> \n",
    "    <figcaption>Fig.2 - An example of a raster different raster resolutions (the area covered by each pixel). Source: Collin Williams, NEON.\n",
    "</p>\n",
    "\n",
    "Source: Leah Wasser, Chris Holdgraf, Martha Morrissey; Earth Lab."
   ]
  },
  {
   "cell_type": "markdown",
   "metadata": {},
   "source": [
    "We will practice reading and visualizing raster data in this exercise.\n",
    "\n",
    "First, we will need to import our Python packages. We are using many of the same packages as our previous exercise with vector data; however, the `rasterio` and `rioxarray` packages are specifically for raster data. We can use them to read, analyze, and visualize raster data. We can also visualize raster data using matplotlib, as you will see."
   ]
  },
  {
   "cell_type": "code",
   "execution_count": null,
   "metadata": {},
   "outputs": [],
   "source": [
    "import os\n",
    "import rasterio as rio\n",
    "import rioxarray as rxr\n",
    "import geopandas as gpd\n",
    "import numpy as np\n",
    "import pandas as pd\n",
    "import folium\n",
    "import matplotlib.pyplot as plt"
   ]
  },
  {
   "cell_type": "markdown",
   "metadata": {},
   "source": [
    "### Opening a Raster in Python\n",
    "\n",
    "Next, we will use the `rasterio` and `rioxarray` packages to read in GeoTiffs of land cover and elevation data for North Carolina. The dataset we are using for land cover, the 2019 National Land Cover Database (NLCD), is produced by the U.S. Geological Survey in partnership with other federal agencies and can be found [here](https://www.mrlc.gov/data/nlcd-2019-land-cover-conus). There are currently 6 NLCD products - 1992, 2001, 2006, 2011, 2016, and 2019 - that provide spatially explicit land cover at a 30 meter resoltion across the contiguous U.S. The size of the full CONUS NLCD data for 2019 is ~29 GB. We have clipped these data to the state of North Carolina for our exercise (size ~300 MB).\n",
    "\n",
    "A GeoTiff is an image file format that contains embedded georeferencing information. This spatial information includes map projection, coordinate reference systems, ellipsoids, and datums. These spatial data are used to describe the actual spatial location for each pixel in the image."
   ]
  },
  {
   "cell_type": "code",
   "execution_count": null,
   "metadata": {},
   "outputs": [],
   "source": [
    "# set raster paths\n",
    "\n",
    "# NLCD data for lower 48 US\n",
    "nc_lclu_path = './data/NLCD_2019_NC.tif'\n",
    "\n",
    "# SRTM data for North Carolina\n",
    "nc_dem_path = 'data/SRTM_wake_county/SRTM_wake_county.tif'\n"
   ]
  },
  {
   "cell_type": "markdown",
   "metadata": {},
   "source": [
    "To open a raster using `rasterio`, we usually want to use a `WITH` statement. These statements allow us to read in data and metadata from a raster, or other file type, and then close them properly. If we use a `.open()` function without a `WITH` statement, we *must* remember to use the `.close()` function when we are finished. Otherwise, Pyhton still has the file open and we could make unintended changes or close the file improperly and corrupt it.\n",
    "\n",
    "To read in the pixel values from the opened raster object, we use the `.read()` function. The number in the parentheses indicates which raster band we want to read, starting with 1. (`rasterio` starts its band indexing at 1 instead of 0.) We will learn more about raster bands in `exercise3`.\n",
    "\n",
    "Similar to shapefiles read with `geopandas`, we can call specific attribute of the open raster object to get metadata information. Once we are out of the `WITH` statement, we can no longer access these attributes."
   ]
  },
  {
   "cell_type": "code",
   "execution_count": null,
   "metadata": {},
   "outputs": [],
   "source": [
    "# read in raster with rasterio\n",
    "\n",
    "with rio.open(nc_lclu_path) as src:\n",
    "    lclu_data = src.read(1) # use 1 because rasters index starting at 1\n",
    "    \n",
    "    # get metadata\n",
    "    lclu_meta = src.meta\n",
    "    for key in lclu_meta.keys():\n",
    "        print(f'{key}: {lclu_meta[key]}')\n",
    "    # save metadata of interest by specifically calling the src attributes\n",
    "    lclu_crs = src.crs # corrdinate reference system of the raster\n",
    "    lclu_res = src.res # resolution of the pixels\n",
    "    lclu_extent = src.bounds # coordinates for the bounding box of the raster\n",
    "    lclu_bands = src.count # number of bands in the raster\n",
    "    lclu_transform = src.transform # more spatial information, including pixel resolution and bounds as a specific data type\n",
    "\n",
    "    lclu_colors = src.colormap(1) # get the colormap for Band 1\n",
    "\n",
    "    # compare the FOR loop printed information and the direct print\n",
    "    print(f'\\n{src.meta}')"
   ]
  },
  {
   "cell_type": "markdown",
   "metadata": {},
   "source": [
    "What is the `CRS` and spatial extent (`src.bounds`) of this dataset?"
   ]
  },
  {
   "cell_type": "code",
   "execution_count": null,
   "metadata": {},
   "outputs": [],
   "source": [
    "print(f'CRS: {lclu_crs}')\n",
    "print(f'Spatial extent: {lclu_extent}')"
   ]
  },
  {
   "cell_type": "markdown",
   "metadata": {},
   "source": [
    "Now, let's look at how the raster data is read by Python, and what it looks like."
   ]
  },
  {
   "cell_type": "code",
   "execution_count": null,
   "metadata": {},
   "outputs": [],
   "source": [
    "print(type(lclu_data))\n",
    "\n",
    "lclu_data"
   ]
  },
  {
   "cell_type": "markdown",
   "metadata": {},
   "source": [
    "The pixel values of a raster are stored in a matrix format. When we look at the raw data, we can see an array of arrays. Each row represents a horizontal row of pixels in our raster image.\n",
    "\n",
    "`rioxarray` can also read in raster data. It is a package that expands the `xarray` package and capabilities with the spatial raster reading, processing, and analyzing capabilities of `rasterio`. When you open a raster using `rioxarray`, the pixel data is stored in an `xarray.DataArray` which uses `numpy` arrays and is very efficient. "
   ]
  },
  {
   "cell_type": "code",
   "execution_count": null,
   "metadata": {},
   "outputs": [],
   "source": [
    "# read in raster with rioxarray\n",
    "# del(lclu_data_rxr)\n",
    "lclu_data_rxr = rxr.open_rasterio(nc_lclu_path)\n",
    "\n",
    "lclu_data_rxr"
   ]
  },
  {
   "cell_type": "markdown",
   "metadata": {},
   "source": [
    "Like with `raterio`, we can look at metadata and spatial data by calling the attributes."
   ]
  },
  {
   "cell_type": "code",
   "execution_count": null,
   "metadata": {},
   "outputs": [],
   "source": [
    "print(f'CRS for {os.path.basename(nc_lclu_path)}: {lclu_data_rxr.rio.crs}')\n",
    "print(f'Resolution for {os.path.basename(nc_lclu_path)}: {lclu_data_rxr.rio.resolution()}')\n",
    "print(f'bounds for {os.path.basename(nc_lclu_path)}: {lclu_data_rxr.rio.bounds()}')\n",
    "print(f'Number of bands for {os.path.basename(nc_lclu_path)}: {lclu_data_rxr.rio.count}')\n",
    "print(f'Shape for {os.path.basename(nc_lclu_path)}: {lclu_data_rxr.rio.shape}')\n",
    "print(f'No data values for {os.path.basename(nc_lclu_path)}: {lclu_data_rxr.rio.nodata}')\n",
    "print(f'Transform for {os.path.basename(nc_lclu_path)}: {lclu_data_rxr.rio.transform()}')\n"
   ]
  },
  {
   "cell_type": "markdown",
   "metadata": {},
   "source": [
    "How does this compare to what we got from `rasterio`?"
   ]
  },
  {
   "cell_type": "markdown",
   "metadata": {},
   "source": [
    "### Opening a Raster in QGIS\n",
    "\n",
    "Adding a raster layer to a QGIS project is similar to adding a vector layer. Click on the \"Layer\" tab at the top of the project, hover over \"Add Layer\" > \"Add Raster Layer...\" and click the latter.\n",
    "\n",
    "<p align=\"center\">\n",
    "    <img src='imgs/QGIS_addRaster.PNG' width='600' /> \n",
    "</p>\n",
    "\n",
    "Navigate to where you have `NLCD_2019_NC.tif` stored (this should be in `./data/nlcd_2019_land_cover_l48/`), select it, and click \"Add\".\n",
    "\n",
    "<p align=\"center\">\n",
    "    <img src='imgs/QGIS_addRaster2.PNG' width='500' /> \n",
    "</p>\n"
   ]
  },
  {
   "cell_type": "markdown",
   "metadata": {},
   "source": [
    "Next, let's find the raster metadata.\n",
    "\n",
    "Right click on the layer name under \"Layers\" on the left side, and then click on \"Properties\".\n",
    "\n",
    "<p align=\"center\">\n",
    "    <img src='imgs/QGIS_properties.PNG' width='600' /> \n",
    "</p>\n",
    "\n",
    "Click on the \"Information\" tab on the left. \n",
    "\n",
    "<p align=\"center\">\n",
    "    <img src='imgs/QGIS_layerProperties.PNG' width='500' /> \n",
    "</p>\n",
    "\n",
    "How do the CRS, extent, resolution, dimensions, and number of bands compare to what we found in Python?"
   ]
  },
  {
   "cell_type": "markdown",
   "metadata": {},
   "source": [
    "### Visualizing Raster Data in Python\n",
    "\n",
    "We have several different ways we can visualize raster data. \n",
    "\n",
    "One way is to plot the numpy array of the raster that we read in using `rasterio` using `matplotlib`."
   ]
  },
  {
   "cell_type": "code",
   "execution_count": null,
   "metadata": {},
   "outputs": [],
   "source": [
    "plt.imshow(lclu_data)"
   ]
  },
  {
   "cell_type": "markdown",
   "metadata": {},
   "source": [
    "We have a map! However, NLCD data comes with specific colors that map to specific land cover types, and we can see the numerical representations of these colors as the values in our `lclu_colors` dictionary. The keys for this dictionary are the NLCD land cover types. \n",
    "\n",
    "Also, the map above does not have spatial x and y axes. We will add these shortly. \n",
    "\n",
    "If you look at your QGIS project, the NLCD raster loaded with specific colors. We will now plot the raster with these colors in Python.\n",
    "\n",
    "<p align=\"center\">\n",
    "    <img src='imgs/QGIS_NCnlcd.PNG' width='650' /> \n",
    "</p>\n",
    "\n",
    "<!-- **Note:** If we try to plot `lclu_data_rxr` we will run into a MemoryError. We will plot with `rioxarray` with a smaller array later. -->"
   ]
  },
  {
   "cell_type": "code",
   "execution_count": null,
   "metadata": {},
   "outputs": [],
   "source": [
    "lclu_colors"
   ]
  },
  {
   "cell_type": "markdown",
   "metadata": {},
   "source": [
    "Here is the legend provided by MRLC:\n",
    "\n",
    "<img src='imgs/NLCD_Colour_Classification_Update.jpg' width='300' /> \n",
    "\n",
    "A detailed description of each land cover class can be found [here](https://www.mrlc.gov/data/legends/national-land-cover-database-class-legend-and-description) and in the NLCDclasses.pdf in the data folder.\n",
    "\n",
    "Now let's try getting our map's colors to match our given land cover colors and add a legend."
   ]
  },
  {
   "cell_type": "code",
   "execution_count": null,
   "metadata": {},
   "outputs": [],
   "source": [
    "## This code is modified from the code found here: \n",
    "# https://makersportal.com/blog/2019/7/17/satellite-imagery-analysis-in-python-part-iii-land-surface-temperature-and-the-national-land-cover-database-nlcd\n",
    "\n",
    "# we are importing a few more functions and modules\n",
    "# if you are writing a script, it's best practice to have all of these import statements at the top\n",
    "# however, because this is a tutorial, we have included them here\n",
    "from matplotlib.colors import ListedColormap\n",
    "import matplotlib as mpl\n",
    "\n",
    "# colormap determination and setting bounds\n",
    "lclu_colors2 = [[float(jj)/255.0 for jj in lclu_colors[ii]] for ii in lclu_colors] \n",
    "nlcd_classes_nc = np.unique(lclu_data) # a list of the NLCD classes in our NC raster\n",
    "r_cmap = []    \n",
    "# for each NLCD class, we are appending its defined color in a new list\n",
    "for ii in nlcd_classes_nc:\n",
    "    r_cmap.append(lclu_colors2[ii])\n",
    "raster_cmap = ListedColormap(r_cmap) # defining the NLCD specific color map\n",
    "norm = mpl.colors.BoundaryNorm(nlcd_classes_nc-0.5, raster_cmap.N - 1) # specifying colors for values within a number range\n",
    "\n",
    "# legend indices and strings that represent each NLCD land cover type\n",
    "nlcd_classes = np.array([0,11,12,21,22,23,24,31,41,42,43,51,52,71,72,73,74,81,82,90,95])\n",
    "nlcd_str = np.array(['NaN','Open Water','Perennial Ice/Snow','Developed, Open Space','Developed, Low Intensity',\n",
    "           'Developed, Medium Intensity','Developed High Intensity','Barren Land (Rock/Sand/Clay)',\n",
    "           'Deciduous Forest','Evergreen Forest','Mixed Forest','Dwarf Scrub','Shrub/Scrub',\n",
    "           'Grassland/Herbaceous','Sedge/Herbaceous','Lichens','Moss','Pasture/Hay','Cultivated Crops',\n",
    "           'Woody Wetlands','Emergent Herbaceous Wetlands'])\n",
    "\n",
    "# look at the colormap we have created - this is specific for the NLCD classes in NC\n",
    "raster_cmap"
   ]
  },
  {
   "cell_type": "code",
   "execution_count": null,
   "metadata": {},
   "outputs": [],
   "source": [
    "# we now want to creat our legend string for our NC NLCD classes\n",
    "\n",
    "# first, we create a dictionary of the NLCD class numbers and names\n",
    "nlcd_dict = dict(zip(nlcd_classes, nlcd_str))\n",
    "print(nlcd_dict)\n",
    "# then we get a list of the NLCD names based on our NLCD classes for NC\n",
    "nc_nlcd_str = [nlcd_dict[i] for i in nlcd_classes_nc]\n",
    "nc_nlcd_str"
   ]
  },
  {
   "cell_type": "code",
   "execution_count": null,
   "metadata": {},
   "outputs": [],
   "source": [
    "# we now need to create our legend patches (the squares of color linked with our legend string)\n",
    "import matplotlib.patches as mpatches\n",
    "\n",
    "# create a patch for each color\n",
    "patches = [ mpatches.Patch(color=r_cmap[i], label=\"{l}\".format(l=nc_nlcd_str[i]) ) for i in range(len(nc_nlcd_str)) ]"
   ]
  },
  {
   "cell_type": "code",
   "execution_count": null,
   "metadata": {},
   "outputs": [],
   "source": [
    "# finally, plot!\n",
    "plt.figure(figsize=(16,6)) # set the figure size (width, height)\n",
    "plt.imshow(lclu_data, cmap=raster_cmap, norm=norm, extent=lclu_extent) # plot the raster, the extent argument adds the spatial bounds\n",
    "# with our new color map (cmap and norm are needed)\n",
    "# also, adding extent puts the spatial values on the x and y axes (this is in meters, so it's not lat and lon)\n",
    "plt.legend(handles=patches, bbox_to_anchor=(1.01,1), loc=2, borderaxespad=0.) # add our legend\n",
    "plt.title(\"NLCD Land Cover Classes for NC\", size=16) # add a title and adjust the title font size\n",
    "plt.show()"
   ]
  },
  {
   "cell_type": "markdown",
   "metadata": {},
   "source": [
    "### Visualizing Raster Histograms in Python\n",
    "\n",
    "Another way we can assess our raster image is to look at the distribution of pixel values. \n",
    "\n",
    "We will first want to look at our maximum and minimum pixel values. Additionally, because we know that the NLCD dataset is a **classified** raster - that is, a raster where pixel values indicate a specific class, like \"Evergreen Forest\" - we can explore the unique values of this image."
   ]
  },
  {
   "cell_type": "code",
   "execution_count": null,
   "metadata": {},
   "outputs": [],
   "source": [
    "print(f'LCLU max value: {lclu_data.max()}')\n",
    "print(f'LCLU min value: {lclu_data.min()}')\n",
    "print(f'LCLU unique values: {np.unique(lclu_data)}')"
   ]
  },
  {
   "cell_type": "markdown",
   "metadata": {},
   "source": [
    "Next, we can make a histogram of the pixel values in order to visualize the range and distribution of our classes.\n",
    "\n",
    "The `.flatten()` function on a `numpy array` changes the array from 2-D array to a 1-D array, which works better with the `.hist()` function in `matplotlib.pyplot`."
   ]
  },
  {
   "cell_type": "code",
   "execution_count": null,
   "metadata": {},
   "outputs": [],
   "source": [
    "plt.hist(lclu_data.flatten()) \n",
    "plt.title(\"NC LCLU Histogram\")\n",
    "plt.ylabel(\"Count\")"
   ]
  },
  {
   "cell_type": "markdown",
   "metadata": {},
   "source": [
    "Great! However, this histogram does not tell us about the distribution of individual classes. For example, classes 21-24 appear to all be grouped together in one bin of our histogram.\n",
    "\n",
    "One way we can adjust this is to set the bins so they are individual for each class. The `plt.hist()` function takes the argument `bins` as a list where the bin ranges from one number to the next, excluding the latter (e.g. `bins=[0,11,21]` will produce two bars, one with the count of values ranging from 0 to 10 and the second ranging from 11 to 20)."
   ]
  },
  {
   "cell_type": "code",
   "execution_count": null,
   "metadata": {},
   "outputs": [],
   "source": [
    "# try plotting the histogram with bars for each class\n",
    "plt.hist(lclu_data.flatten(), bins=[0, 11, 21, 22, 23, 24, 31, 41, 42, 43, 52, 71, 81, 82, 90, 95, 96])\n",
    "plt.title(\"NC LCLU Histogram\")\n",
    "plt.ylabel(\"Count\")\n",
    "plt.xlabel(\"LCLU Class\")"
   ]
  },
  {
   "cell_type": "markdown",
   "metadata": {},
   "source": [
    "One problem with this histogram is that now are bars are all of different widths. This time, let's try setting the number of bins to 100."
   ]
  },
  {
   "cell_type": "code",
   "execution_count": null,
   "metadata": {},
   "outputs": [],
   "source": [
    "# try plotting the histogram with bars for each class\n",
    "plt.hist(lclu_data.flatten(), bins=100)\n",
    "plt.title(\"NC LCLU Histogram\")\n",
    "plt.ylabel(\"Count\")\n",
    "plt.xlabel(\"LCLU Class\")"
   ]
  },
  {
   "cell_type": "markdown",
   "metadata": {},
   "source": [
    "Great! Now we are visualizing the frequency of each individual class. Which class has the most number of pixels, aside from 0? What land cover type is that?\n",
    "\n",
    "There is another way to view a raster histogram using a built-in function in `rasterio`. Again, let's set our number of bins to 100."
   ]
  },
  {
   "cell_type": "code",
   "execution_count": null,
   "metadata": {},
   "outputs": [],
   "source": [
    "# another way to get a histogram\n",
    "from rasterio.plot import show_hist\n",
    "\n",
    "src = rio.open(nc_lclu_path)\n",
    "\n",
    "show_hist(src,\n",
    "    bins=100, lw=0.0, stacked=False, alpha=1,\n",
    "    histtype='stepfilled', title=\"Histogram\")\n",
    "\n",
    "# if you read in src without a WITH statement, you MUST close it\n",
    "src.close()"
   ]
  },
  {
   "cell_type": "markdown",
   "metadata": {},
   "source": [
    "### Visualize Raster Histograms in QGIS\n",
    "\n",
    "We can also view a histogram of pixel values in QGIS. \n",
    "\n",
    "Again, right click on the raster layer in the \"Layer\" window on the left. Then click on the \"Histogram\" tab on the left of the \"Layer Properties\" window that opens. Click \"Compute Histogram\".\n",
    "\n",
    "<p align=\"center\">\n",
    "    <img src='imgs/QGIS_rasterHist.PNG' width='800' /> \n",
    "</p>\n",
    "\n",
    "How does this compare with our histograms above?"
   ]
  },
  {
   "cell_type": "markdown",
   "metadata": {},
   "source": [
    "#### Continuous Raster Data\n",
    "\n",
    "So far, we've been working with a classified raster. The NLCD data had pixel values that were associated with specific land cover classes. Another type of raster data is continuous data. \n",
    "\n",
    "\"Continuous data, or a continuous surface, represents phenomena where each location on the surface is a measure of the concentration level or its relationship from a fixed point in space or from an emitting source. Continuous data is also referred to as field, nondiscrete, or surface data. One type of continuous surface data is derived from those characteristics that define a surface where each location is measured from a fixed registration point. These include elevation (the fixed point being sea level) and aspect (the fixed point being direction: north, east, south, and west)\" ([ESRI, 2021](https://desktop.arcgis.com/en/arcmap/latest/extensions/3d-analyst/discrete-and-continuous-data-in-3d-analyst.htm)).\n",
    "\n",
    "Continuous data typically do not have well-defined boundaries between possible values.\n",
    "\n",
    "One way to think of continuous data is to think of the gradual slope of a hill or an Appalachain mountain, while discrete data would be like a set of stairs or a terraced farm.\n",
    "\n",
    "<p align=\"center\">\n",
    "    <img src='imgs/continuous_discrete.PNG' width='1000' /> \n",
    "</p>"
   ]
  },
  {
   "cell_type": "markdown",
   "metadata": {},
   "source": [
    "We'll read in a Digital Elevation Model (DEM). This DEM data is from the Shuttle Radar Topography Mission (SRTM). The SRTM data were used to generate the first set of land elevation data to cover almost the entire world between 60 degrees N and 56 degrees S latitude. To read more about the SRTM data products, check out the USGS webpage [here](https://www.usgs.gov/centers/eros/science/usgs-eros-archive-digital-elevation-shuttle-radar-topography-mission-srtm-non#overview)."
   ]
  },
  {
   "cell_type": "code",
   "execution_count": null,
   "metadata": {},
   "outputs": [],
   "source": [
    "dem_data_rxr = rxr.open_rasterio(nc_dem_path)\n",
    "\n",
    "dem_data_rxr"
   ]
  },
  {
   "cell_type": "markdown",
   "metadata": {},
   "source": [
    "Let's look at the CRS, bounds, and No Data values for our DEM."
   ]
  },
  {
   "cell_type": "code",
   "execution_count": null,
   "metadata": {},
   "outputs": [],
   "source": [
    "# View the Coordinate Reference System (CRS) & spatial extent\n",
    "print(\"The CRS for this data is:\", dem_data_rxr.rio.crs)\n",
    "print(\"The spatial extent is:\", dem_data_rxr.rio.bounds())\n",
    "\n",
    "# View no data value\n",
    "print(\"The no data value is:\", dem_data_rxr.rio.nodata)\n",
    "\n",
    "# View the shape of the data\n",
    "print(\"The shape of the raster data is:\", dem_data_rxr.shape)"
   ]
  },
  {
   "cell_type": "markdown",
   "metadata": {},
   "source": [
    "Now let's plot the SRTM data."
   ]
  },
  {
   "cell_type": "code",
   "execution_count": null,
   "metadata": {},
   "outputs": [],
   "source": [
    "dem_data_rxr.plot()\n",
    "plt.show()"
   ]
  },
  {
   "cell_type": "markdown",
   "metadata": {},
   "source": [
    "It looks like wehave a lot of negative numbers. Why do you think that is?\n",
    "\n",
    "Let's plot the histogram for the DEM."
   ]
  },
  {
   "cell_type": "code",
   "execution_count": null,
   "metadata": {},
   "outputs": [],
   "source": [
    "dem_data_rxr.plot.hist()\n",
    "plt.show()"
   ]
  },
  {
   "cell_type": "markdown",
   "metadata": {},
   "source": [
    "What does this histogram tell us about our DEM? Why do you think we only have these two bars?\n",
    "\n",
    "Let's look at our min and max values."
   ]
  },
  {
   "cell_type": "code",
   "execution_count": null,
   "metadata": {},
   "outputs": [],
   "source": [
    "print(\"the minimum raster value is: \", np.nanmin(dem_data_rxr.values))\n",
    "print(\"the maximum raster value is: \", np.nanmax(dem_data_rxr.values))"
   ]
  },
  {
   "cell_type": "markdown",
   "metadata": {},
   "source": [
    "Let's try to mask our raster data to ignore our no data values."
   ]
  },
  {
   "cell_type": "code",
   "execution_count": null,
   "metadata": {},
   "outputs": [],
   "source": [
    "dem_data_rxr = rxr.open_rasterio(nc_dem_path, masked=True).squeeze()\n",
    "# we use the .squeeze() function to remove the third dimension of our raster shape\n",
    "\n",
    "print(\"The shape of the raster data is:\", dem_data_rxr.shape)\n",
    "print(\"the minimum raster value is: \", np.nanmin(dem_data_rxr.values))\n",
    "print(\"the maximum raster value is: \", np.nanmax(dem_data_rxr.values))"
   ]
  },
  {
   "cell_type": "markdown",
   "metadata": {},
   "source": [
    "Let's plot our DEM data again. How does it compare with our first map?"
   ]
  },
  {
   "cell_type": "code",
   "execution_count": null,
   "metadata": {},
   "outputs": [],
   "source": [
    "dem_data_rxr.plot()\n",
    "plt.show()"
   ]
  },
  {
   "cell_type": "markdown",
   "metadata": {},
   "source": [
    "What about the histogram?"
   ]
  },
  {
   "cell_type": "code",
   "execution_count": null,
   "metadata": {},
   "outputs": [],
   "source": [
    "dem_data_rxr.plot.hist()\n",
    "plt.show()"
   ]
  },
  {
   "cell_type": "markdown",
   "metadata": {},
   "source": [
    "## Plot Raster and Vector Data\n",
    "\n"
   ]
  },
  {
   "cell_type": "code",
   "execution_count": null,
   "metadata": {},
   "outputs": [],
   "source": [
    "# read in NC State Campus shapefile\n",
    "ncsu_shp = gpd.read_file('./data/CAMPUSPERIMETER_ALL/CAMPUSPERIMETER_ALL.shp')\n",
    "ncsu_shp.head()"
   ]
  },
  {
   "cell_type": "code",
   "execution_count": null,
   "metadata": {},
   "outputs": [],
   "source": [
    "ncsu_main = ncsu_shp[ncsu_shp['Precinct_N']=='Central Campus']\n",
    "ncsu_main.plot()"
   ]
  },
  {
   "cell_type": "markdown",
   "metadata": {},
   "source": [
    "We need to check the CRS's of each dataset we want to plot and make sure they are the same."
   ]
  },
  {
   "cell_type": "code",
   "execution_count": null,
   "metadata": {},
   "outputs": [],
   "source": [
    "print(f'ncsu_main shapefile crs: {ncsu_main.crs}')\n",
    "print(f'\\nWake County raster crs: {dem_data_rxr.rio.crs}')"
   ]
  },
  {
   "cell_type": "markdown",
   "metadata": {},
   "source": [
    "These are not same, so we need to reproject one. In this exercise, we will reproject the raster data; however, you can reproject either as long as they both end up with the same CRS.\n",
    "\n",
    "#### Reprojecting Raster Data"
   ]
  },
  {
   "cell_type": "code",
   "execution_count": null,
   "metadata": {},
   "outputs": [],
   "source": [
    "dem_nad83 = dem_data_rxr.rio.reproject(ncsu_main.crs)\n",
    "print(f'dem raster CRS: {dem_nad83.rio.crs}')"
   ]
  },
  {
   "cell_type": "markdown",
   "metadata": {},
   "source": [
    "Now that the data are in the same projection, we can accurately plot them!"
   ]
  },
  {
   "cell_type": "code",
   "execution_count": null,
   "metadata": {},
   "outputs": [],
   "source": [
    "# Plot your newly converted data\n",
    "f, ax = plt.subplots(figsize=(10, 4))\n",
    "\n",
    "dem_nad83.plot.imshow(ax=ax,\n",
    "                            cmap='Greys')\n",
    "ncsu_main.plot(ax=ax, color='red')\n",
    "ax.set(title=\"Plot Showing NCSU Main Campus\\nOverlayed on Elevation Data\")\n",
    "ax.set_axis_off()\n",
    "plt.show()"
   ]
  },
  {
   "cell_type": "markdown",
   "metadata": {},
   "source": [
    "### Clip Raster with Polygon\n",
    "\n",
    "The `rioxarray` package allows us to clip a raster with a vector using a simple fuction, `rio.clip()`, so long as the raster and vector data have the same spatial projection.\n",
    "\n",
    "`.clip()` has several parameters, which you can change based on what you want the function to do. You can check out the parameters [here](https://corteva.github.io/rioxarray/stable/rioxarray.html#rioxarray.raster_array.RasterArray). The main argument you will need is the geometry of the vector file you want to use. The other parameters have defaults that will keep all pixels within the vector geometry and drop all of the data outside of the vector geometry."
   ]
  },
  {
   "cell_type": "code",
   "execution_count": null,
   "metadata": {},
   "outputs": [],
   "source": [
    "dem_clip = dem_nad83.rio.clip(ncsu_main.geometry, ncsu_main.crs)\n",
    "\n",
    "f, ax = plt.subplots(figsize=(12, 5))\n",
    "dem_clip.plot(ax=ax, cmap='Greys')\n",
    "ncsu_main.plot(ax=ax, color='None', edgecolor='red', linewidth=3)\n",
    "\n",
    "ax.set(title=\"NCSU Main Campus NLCD\")\n",
    "ax.set_axis_off()\n",
    "\n",
    "plt.show()"
   ]
  },
  {
   "cell_type": "markdown",
   "metadata": {},
   "source": [
    "We can save our clipped raster so we can read it in again later."
   ]
  },
  {
   "cell_type": "code",
   "execution_count": null,
   "metadata": {},
   "outputs": [],
   "source": [
    "dem_clip.rio.to_raster('./data/output/NCSU_mainCampus_DEM.tif')"
   ]
  },
  {
   "cell_type": "markdown",
   "metadata": {},
   "source": [
    "## Homework:\n",
    "Show all of your code!\n",
    "\n",
    "1) Clip the NCLD data to Wake County (Hint: check the projections)\n",
    "\n",
    "2) Save your clipped NLCD raster\n",
    "\n",
    "3) Read in your clipped NLCD raster\n",
    "\n",
    "4) Identify and print the raster **extent**, **crs** and **resolution**\n",
    "\n",
    "5) Generate a histogram of your clipped NLCD raster values\n",
    "\n",
    "#### Bonus:\n",
    "\n",
    "Generate a set of vector points in Wake County and get the NLCD raster values at those points."
   ]
  },
  {
   "cell_type": "markdown",
   "metadata": {},
   "source": []
  }
 ],
 "metadata": {
  "kernelspec": {
   "display_name": "Python 3.10.5 ('NR491')",
   "language": "python",
   "name": "python3"
  },
  "language_info": {
   "codemirror_mode": {
    "name": "ipython",
    "version": 3
   },
   "file_extension": ".py",
   "mimetype": "text/x-python",
   "name": "python",
   "nbconvert_exporter": "python",
   "pygments_lexer": "ipython3",
   "version": "3.10.5"
  },
  "orig_nbformat": 4,
  "vscode": {
   "interpreter": {
    "hash": "5459a401195d3264b166886e5360aad71b46db003db16e67b938607b7a497e6e"
   }
  }
 },
 "nbformat": 4,
 "nbformat_minor": 2
}
